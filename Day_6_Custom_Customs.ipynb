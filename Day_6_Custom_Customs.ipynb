{
  "nbformat": 4,
  "nbformat_minor": 0,
  "metadata": {
    "colab": {
      "provenance": [],
      "authorship_tag": "ABX9TyN2yFLQuaEMM5/IQz7Ws/DE",
      "include_colab_link": true
    },
    "kernelspec": {
      "name": "python3",
      "display_name": "Python 3"
    },
    "language_info": {
      "name": "python"
    }
  },
  "cells": [
    {
      "cell_type": "markdown",
      "metadata": {
        "id": "view-in-github",
        "colab_type": "text"
      },
      "source": [
        "<a href=\"https://colab.research.google.com/github/elichen/aoc2020/blob/main/Day_6_Custom_Customs.ipynb\" target=\"_parent\"><img src=\"https://colab.research.google.com/assets/colab-badge.svg\" alt=\"Open In Colab\"/></a>"
      ]
    },
    {
      "cell_type": "code",
      "execution_count": null,
      "metadata": {
        "id": "5mSh2Q_EwRll"
      },
      "outputs": [],
      "source": [
        "input = '''abc\n",
        "\n",
        "a\n",
        "b\n",
        "c\n",
        "\n",
        "ab\n",
        "ac\n",
        "\n",
        "a\n",
        "a\n",
        "a\n",
        "a\n",
        "\n",
        "b'''.split('\\n')"
      ]
    },
    {
      "cell_type": "code",
      "source": [
        "input = [x.rstrip() for x in open(\"input.txt\").readlines()]"
      ],
      "metadata": {
        "id": "p9ooAeDQyE4E"
      },
      "execution_count": null,
      "outputs": []
    },
    {
      "cell_type": "code",
      "source": [
        "chunks = []\n",
        "current_chunk = []\n",
        "for line in input:\n",
        "    if line == \"\":\n",
        "        chunks.append(current_chunk)\n",
        "        current_chunk = []\n",
        "    else:\n",
        "        current_chunk.append(line)\n",
        "\n",
        "if current_chunk:\n",
        "    chunks.append(current_chunk)\n",
        "\n",
        "total = 0\n",
        "for chunk in chunks:\n",
        "  s = set()\n",
        "  for line in chunk:\n",
        "    s.update(set(line))\n",
        "  total += len(s)\n",
        "total"
      ],
      "metadata": {
        "colab": {
          "base_uri": "https://localhost:8080/"
        },
        "id": "HQYXqPfzwgnF",
        "outputId": "d7d660f8-57f1-4765-9f7d-c4517e5e7e09"
      },
      "execution_count": null,
      "outputs": [
        {
          "output_type": "execute_result",
          "data": {
            "text/plain": [
              "6416"
            ]
          },
          "metadata": {},
          "execution_count": 9
        }
      ]
    },
    {
      "cell_type": "code",
      "source": [
        "chunks = []\n",
        "current_chunk = []\n",
        "for line in input:\n",
        "    if line == \"\":\n",
        "        chunks.append(current_chunk)\n",
        "        current_chunk = []\n",
        "    else:\n",
        "        current_chunk.append(line)\n",
        "\n",
        "if current_chunk:\n",
        "    chunks.append(current_chunk)\n",
        "\n",
        "total = 0\n",
        "for chunk in chunks:\n",
        "  s = set(chunk[0])\n",
        "  for line in chunk:\n",
        "    s = s.intersection(set(line))\n",
        "  total += len(s)\n",
        "total"
      ],
      "metadata": {
        "colab": {
          "base_uri": "https://localhost:8080/"
        },
        "id": "eKUQCjkXyKeX",
        "outputId": "a7111b7e-1ca0-4cb7-c01a-5df0e09c9964"
      },
      "execution_count": null,
      "outputs": [
        {
          "output_type": "execute_result",
          "data": {
            "text/plain": [
              "3050"
            ]
          },
          "metadata": {},
          "execution_count": 17
        }
      ]
    }
  ]
}