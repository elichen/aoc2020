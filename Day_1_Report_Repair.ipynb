{
  "nbformat": 4,
  "nbformat_minor": 0,
  "metadata": {
    "colab": {
      "provenance": [],
      "authorship_tag": "ABX9TyMB/RSQTv7AwBHlvAuFlS3a",
      "include_colab_link": true
    },
    "kernelspec": {
      "name": "python3",
      "display_name": "Python 3"
    },
    "language_info": {
      "name": "python"
    }
  },
  "cells": [
    {
      "cell_type": "markdown",
      "metadata": {
        "id": "view-in-github",
        "colab_type": "text"
      },
      "source": [
        "<a href=\"https://colab.research.google.com/github/elichen/aoc2020/blob/main/Day_1_Report_Repair.ipynb\" target=\"_parent\"><img src=\"https://colab.research.google.com/assets/colab-badge.svg\" alt=\"Open In Colab\"/></a>"
      ]
    },
    {
      "cell_type": "code",
      "execution_count": null,
      "metadata": {
        "id": "OYxE7l96AX2a"
      },
      "outputs": [],
      "source": [
        "numbers = '''1721\n",
        "979\n",
        "366\n",
        "299\n",
        "675\n",
        "1456'''.split('\\n')"
      ]
    },
    {
      "cell_type": "code",
      "source": [
        "with open('input.txt', 'r') as file:\n",
        "    numbers = [int(line.strip()) for line in file.readlines()]"
      ],
      "metadata": {
        "id": "e08acklUBo-u"
      },
      "execution_count": null,
      "outputs": []
    },
    {
      "cell_type": "code",
      "source": [
        "for i in range(len(numbers)):\n",
        "    for j in range(i+1, len(numbers)):\n",
        "        a,b = int(numbers[i]), int(numbers[j])\n",
        "        if a + b == 2020:\n",
        "            print(a*b)"
      ],
      "metadata": {
        "colab": {
          "base_uri": "https://localhost:8080/"
        },
        "id": "W8rgEFuaAzZG",
        "outputId": "1a0be7ff-9425-426c-cfc0-1a5a0eb96827"
      },
      "execution_count": null,
      "outputs": [
        {
          "output_type": "stream",
          "name": "stdout",
          "text": [
            "864864\n"
          ]
        }
      ]
    },
    {
      "cell_type": "code",
      "source": [
        "for i in range(len(numbers)):\n",
        "    for j in range(i+1, len(numbers)):\n",
        "      for k in range(j+1, len(numbers)):\n",
        "        a,b,c = int(numbers[i]), int(numbers[j]), int(numbers[k])\n",
        "        if a + b + c == 2020:\n",
        "            print(a*b*c)"
      ],
      "metadata": {
        "colab": {
          "base_uri": "https://localhost:8080/"
        },
        "id": "-B3G4n_MA9At",
        "outputId": "c276af51-0659-45bc-8e71-e3c0344ef6ec"
      },
      "execution_count": null,
      "outputs": [
        {
          "output_type": "stream",
          "name": "stdout",
          "text": [
            "281473080\n"
          ]
        }
      ]
    }
  ]
}