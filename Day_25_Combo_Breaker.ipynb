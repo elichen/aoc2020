{
  "nbformat": 4,
  "nbformat_minor": 0,
  "metadata": {
    "colab": {
      "provenance": [],
      "authorship_tag": "ABX9TyOVG37wHr2UD7GXpYGCkql4",
      "include_colab_link": true
    },
    "kernelspec": {
      "name": "python3",
      "display_name": "Python 3"
    },
    "language_info": {
      "name": "python"
    }
  },
  "cells": [
    {
      "cell_type": "markdown",
      "metadata": {
        "id": "view-in-github",
        "colab_type": "text"
      },
      "source": [
        "<a href=\"https://colab.research.google.com/github/elichen/aoc2020/blob/main/Day_25_Combo_Breaker.ipynb\" target=\"_parent\"><img src=\"https://colab.research.google.com/assets/colab-badge.svg\" alt=\"Open In Colab\"/></a>"
      ]
    },
    {
      "cell_type": "code",
      "execution_count": null,
      "metadata": {
        "colab": {
          "base_uri": "https://localhost:8080/"
        },
        "id": "AHRZwZ68GSoo",
        "outputId": "3305ef5b-d812-4400-941e-f3f57fedf256"
      },
      "outputs": [
        {
          "output_type": "execute_result",
          "data": {
            "text/plain": [
              "5764801"
            ]
          },
          "metadata": {},
          "execution_count": 1
        }
      ],
      "source": [
        "def transform(sn, ls):\n",
        "  return (sn**ls)%20201227\n",
        "transform(7, 8)"
      ]
    },
    {
      "cell_type": "code",
      "source": [
        "(7**8)%20201227"
      ],
      "metadata": {
        "colab": {
          "base_uri": "https://localhost:8080/"
        },
        "id": "Lgg70jxxOzAk",
        "outputId": "57473688-289a-4a5e-8a99-11533905707d"
      },
      "execution_count": null,
      "outputs": [
        {
          "output_type": "execute_result",
          "data": {
            "text/plain": [
              "5764801"
            ]
          },
          "metadata": {},
          "execution_count": 2
        }
      ]
    },
    {
      "cell_type": "code",
      "source": [
        "transform(7, 11)"
      ],
      "metadata": {
        "colab": {
          "base_uri": "https://localhost:8080/"
        },
        "id": "HNcCCVFgHMfl",
        "outputId": "8dcda276-824e-493f-abb6-26eb96c61be8"
      },
      "execution_count": null,
      "outputs": [
        {
          "output_type": "execute_result",
          "data": {
            "text/plain": [
              "17807724"
            ]
          },
          "metadata": {},
          "execution_count": 3
        }
      ]
    },
    {
      "cell_type": "code",
      "source": [
        "transform(17807724, 8), transform(5764801, 11)"
      ],
      "metadata": {
        "colab": {
          "base_uri": "https://localhost:8080/"
        },
        "id": "31JKl98gHT6B",
        "outputId": "efb0e237-c96b-4476-e281-77e9bd2c86e5"
      },
      "execution_count": null,
      "outputs": [
        {
          "output_type": "execute_result",
          "data": {
            "text/plain": [
              "(14897079, 14897079)"
            ]
          },
          "metadata": {},
          "execution_count": 4
        }
      ]
    },
    {
      "cell_type": "code",
      "source": [
        "def mod_exp(base, exponent, modulus):\n",
        "    # Modular Exponentiation using Square and Multiply\n",
        "    result = 1\n",
        "    base = base % modulus\n",
        "    while exponent > 0:\n",
        "        if exponent % 2 == 1:\n",
        "            result = (result * base) % modulus\n",
        "        exponent = exponent >> 1\n",
        "        base = (base * base) % modulus\n",
        "    return result\n",
        "\n",
        "def mod_inv(a, modulus):\n",
        "    # Modular Inverse using Extended Euclidean Algorithm\n",
        "    g, x, _ = extended_gcd(a, modulus)\n",
        "    if g != 1:\n",
        "        raise Exception(\"Inverse doesn't exist\")\n",
        "    return x % modulus\n",
        "\n",
        "def extended_gcd(a, b):\n",
        "    # Extended Euclidean Algorithm\n",
        "    if a == 0:\n",
        "        return b, 0, 1\n",
        "    gcd, x1, y1 = extended_gcd(b % a, a)\n",
        "    x = y1 - (b//a) * x1\n",
        "    y = x1\n",
        "    return gcd, x, y\n",
        "\n",
        "def baby_step_giant_step(a, b, n):\n",
        "    m = int(n**0.5) + 1\n",
        "\n",
        "    # Baby Step: Compute a^j mod n for 0 <= j < m\n",
        "    lookup = {}\n",
        "    for j in range(m):\n",
        "        value = mod_exp(a, j, n)\n",
        "        lookup[value] = j\n",
        "\n",
        "    # Compute c = a^(-m) mod n\n",
        "    c = mod_inv(mod_exp(a, m, n), n)\n",
        "\n",
        "    # Giant Step\n",
        "    for i in range(m):\n",
        "        z = (b * mod_exp(c, i, n)) % n\n",
        "        if z in lookup:\n",
        "            return i * m + lookup[z]\n",
        "    return None\n",
        "\n",
        "# Given values\n",
        "a = 7\n",
        "b = 8335663\n",
        "n = 20201227\n",
        "\n",
        "x = baby_step_giant_step(a, b, n)\n",
        "print(x)\n"
      ],
      "metadata": {
        "colab": {
          "base_uri": "https://localhost:8080/"
        },
        "id": "eIyyEoVPIR3p",
        "outputId": "2a0f4316-9af4-4972-c909-4e5a96b961a0"
      },
      "execution_count": null,
      "outputs": [
        {
          "output_type": "stream",
          "name": "stdout",
          "text": [
            "6041183\n"
          ]
        }
      ]
    },
    {
      "cell_type": "code",
      "source": [
        "result = mod_exp(8614349, 6041183, 20201227)\n",
        "print(result)"
      ],
      "metadata": {
        "colab": {
          "base_uri": "https://localhost:8080/"
        },
        "id": "kbbGez-rSZNQ",
        "outputId": "e33a6137-a9e6-4390-d890-e9868ed92ac7"
      },
      "execution_count": null,
      "outputs": [
        {
          "output_type": "stream",
          "name": "stdout",
          "text": [
            "6408263\n"
          ]
        }
      ]
    }
  ]
}