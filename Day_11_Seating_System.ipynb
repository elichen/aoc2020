{
  "nbformat": 4,
  "nbformat_minor": 0,
  "metadata": {
    "colab": {
      "provenance": [],
      "authorship_tag": "ABX9TyPc4P+PfMTGOEXo8yjzCojI",
      "include_colab_link": true
    },
    "kernelspec": {
      "name": "python3",
      "display_name": "Python 3"
    },
    "language_info": {
      "name": "python"
    }
  },
  "cells": [
    {
      "cell_type": "markdown",
      "metadata": {
        "id": "view-in-github",
        "colab_type": "text"
      },
      "source": [
        "<a href=\"https://colab.research.google.com/github/elichen/aoc2020/blob/main/Day_11_Seating_System.ipynb\" target=\"_parent\"><img src=\"https://colab.research.google.com/assets/colab-badge.svg\" alt=\"Open In Colab\"/></a>"
      ]
    },
    {
      "cell_type": "code",
      "execution_count": null,
      "metadata": {
        "id": "xsHcLsudNFJF"
      },
      "outputs": [],
      "source": [
        "input = '''L.LL.LL.LL\n",
        "LLLLLLL.LL\n",
        "L.L.L..L..\n",
        "LLLL.LL.LL\n",
        "L.LL.LL.LL\n",
        "L.LLLLL.LL\n",
        "..L.L.....\n",
        "LLLLLLLLLL\n",
        "L.LLLLLL.L\n",
        "L.LLLLL.LL'''.split('\\n')"
      ]
    },
    {
      "cell_type": "code",
      "source": [
        "input = [x.rstrip() for x in open(\"input.txt\").readlines()]"
      ],
      "metadata": {
        "id": "9m0DkUmZchsa"
      },
      "execution_count": null,
      "outputs": []
    },
    {
      "cell_type": "code",
      "source": [
        "import numpy as np"
      ],
      "metadata": {
        "id": "dfdZ1D1ONJgx"
      },
      "execution_count": null,
      "outputs": []
    },
    {
      "cell_type": "code",
      "source": [
        "h = len(input)\n",
        "w = len(input[0])\n",
        "sm = np.zeros((h,w),dtype=int)\n",
        "for row in range(h):\n",
        "  for col in range(w):\n",
        "    if input[row][col] == 'L': sm[row,col] = 1"
      ],
      "metadata": {
        "id": "4uPSVlaNTwY_"
      },
      "execution_count": null,
      "outputs": []
    },
    {
      "cell_type": "code",
      "source": [
        "round = 0\n",
        "om = np.zeros((h,w),dtype=int)\n",
        "while True:\n",
        "  new_om = np.zeros((h,w),dtype=int)\n",
        "  for row in range(h):\n",
        "    for col in range(w):\n",
        "       if sm[row,col]:\n",
        "         n = om[max(0,row-1):min(h,row+2),max(0,col-1):min(w,col+2)].sum() - om[row,col]\n",
        "         if om[row,col] == 0 and n == 0:\n",
        "           new_om[row,col] = 1\n",
        "         elif om[row,col] == 1 and n >= 4:\n",
        "           new_om[row,col] = 0\n",
        "         else:\n",
        "           new_om[row,col] = om[row,col]\n",
        "  round += 1\n",
        "  if np.array_equal(om, new_om):\n",
        "    print(round, om.sum())\n",
        "    break\n",
        "  om = new_om"
      ],
      "metadata": {
        "colab": {
          "base_uri": "https://localhost:8080/"
        },
        "id": "v-wkV6ulNl1e",
        "outputId": "6c2afb0a-35cc-4ca5-d51f-e77ed826a768"
      },
      "execution_count": null,
      "outputs": [
        {
          "output_type": "stream",
          "name": "stdout",
          "text": [
            "80 2270\n"
          ]
        }
      ]
    },
    {
      "cell_type": "code",
      "source": [
        "def count_seats(sm, om, x, y):\n",
        "    directions = [(0, 1), (0, -1), (1, 0), (-1, 0), (1, 1), (-1, -1), (1, -1), (-1, 1)]\n",
        "    count = 0\n",
        "    for d in directions:\n",
        "        row,col = y+d[1],x+d[0]\n",
        "        while 0 <= row < h and 0 <= col < w:\n",
        "            if sm[row,col] == 1:\n",
        "                if om[row,col]: count += 1\n",
        "                break\n",
        "            col += d[0]\n",
        "            row += d[1]\n",
        "    return count"
      ],
      "metadata": {
        "id": "6dDvEvRIakKl"
      },
      "execution_count": null,
      "outputs": []
    },
    {
      "cell_type": "code",
      "source": [
        "round = 0\n",
        "om = np.zeros((h,w),dtype=int)\n",
        "while True:\n",
        "  new_om = np.zeros((h,w),dtype=int)\n",
        "  for row in range(h):\n",
        "    for col in range(w):\n",
        "       if sm[row,col]:\n",
        "         n = count_seats(sm,om,col,row)\n",
        "         if om[row,col] == 0 and n == 0:\n",
        "           new_om[row,col] = 1\n",
        "         elif om[row,col] == 1 and n >= 5:\n",
        "           new_om[row,col] = 0\n",
        "         else:\n",
        "           new_om[row,col] = om[row,col]\n",
        "  round += 1\n",
        "  if np.array_equal(om, new_om):\n",
        "    print(round, om.sum())\n",
        "    break\n",
        "  om = new_om"
      ],
      "metadata": {
        "colab": {
          "base_uri": "https://localhost:8080/"
        },
        "id": "ZYWfPfaQlb2Q",
        "outputId": "42fd7056-b904-4e72-8e8f-5ced0e0d0f50"
      },
      "execution_count": null,
      "outputs": [
        {
          "output_type": "stream",
          "name": "stdout",
          "text": [
            "85 2042\n"
          ]
        }
      ]
    }
  ]
}