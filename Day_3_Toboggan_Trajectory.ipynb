{
  "nbformat": 4,
  "nbformat_minor": 0,
  "metadata": {
    "colab": {
      "provenance": [],
      "authorship_tag": "ABX9TyOrFHtxkwk9t0zZZ60h+HYz",
      "include_colab_link": true
    },
    "kernelspec": {
      "name": "python3",
      "display_name": "Python 3"
    },
    "language_info": {
      "name": "python"
    }
  },
  "cells": [
    {
      "cell_type": "markdown",
      "metadata": {
        "id": "view-in-github",
        "colab_type": "text"
      },
      "source": [
        "<a href=\"https://colab.research.google.com/github/elichen/aoc2020/blob/main/Day_3_Toboggan_Trajectory.ipynb\" target=\"_parent\"><img src=\"https://colab.research.google.com/assets/colab-badge.svg\" alt=\"Open In Colab\"/></a>"
      ]
    },
    {
      "cell_type": "code",
      "execution_count": null,
      "metadata": {
        "id": "J9_fjUlGQqaA"
      },
      "outputs": [],
      "source": [
        "input = '''..##.......\n",
        "#...#...#..\n",
        ".#....#..#.\n",
        "..#.#...#.#\n",
        ".#...##..#.\n",
        "..#.##.....\n",
        ".#.#.#....#\n",
        ".#........#\n",
        "#.##...#...\n",
        "#...##....#\n",
        ".#..#...#.#'''.split('\\n')"
      ]
    },
    {
      "cell_type": "code",
      "source": [
        "input = [x.strip() for x in open(\"input.txt\").readlines()]"
      ],
      "metadata": {
        "id": "gJeoEP5CSKtA"
      },
      "execution_count": null,
      "outputs": []
    },
    {
      "cell_type": "code",
      "source": [
        "import numpy as np\n",
        "h = len(input)\n",
        "w = len(input[0])\n",
        "m = np.zeros((h,w),dtype=int)\n",
        "\n",
        "for row,line in enumerate(input):\n",
        "  for col,c in enumerate(line):\n",
        "    if c == '#': m[row,col] = 1"
      ],
      "metadata": {
        "id": "ut5U3nUhQxez"
      },
      "execution_count": null,
      "outputs": []
    },
    {
      "cell_type": "code",
      "source": [
        "x,y = 0,0\n",
        "trees = 0\n",
        "while y < h:\n",
        "  trees += m[y,x]\n",
        "  x = (x+3)%w\n",
        "  y += 1\n",
        "trees"
      ],
      "metadata": {
        "colab": {
          "base_uri": "https://localhost:8080/"
        },
        "id": "S1TzsD0gRhKP",
        "outputId": "8fae7af8-d31c-478c-8a8d-c3cf322cbf8a"
      },
      "execution_count": null,
      "outputs": [
        {
          "output_type": "execute_result",
          "data": {
            "text/plain": [
              "259"
            ]
          },
          "metadata": {},
          "execution_count": 25
        }
      ]
    },
    {
      "cell_type": "code",
      "source": [
        "total = 1\n",
        "for dx,dy in [(1,1),(3,1),(5,1),(7,1),(1,2)]:\n",
        "  x,y = 0,0\n",
        "  trees = 0\n",
        "  while y < h:\n",
        "    trees += m[y,x]\n",
        "    x = (x+dx)%w\n",
        "    y += dy\n",
        "  total *= trees\n",
        "total"
      ],
      "metadata": {
        "colab": {
          "base_uri": "https://localhost:8080/"
        },
        "id": "-nPmBS7lSXtR",
        "outputId": "fb7fdd90-992a-4e23-fe2f-57b22337edee"
      },
      "execution_count": null,
      "outputs": [
        {
          "output_type": "execute_result",
          "data": {
            "text/plain": [
              "2224913600"
            ]
          },
          "metadata": {},
          "execution_count": 26
        }
      ]
    }
  ]
}