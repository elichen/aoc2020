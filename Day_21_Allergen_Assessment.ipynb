{
  "nbformat": 4,
  "nbformat_minor": 0,
  "metadata": {
    "colab": {
      "provenance": [],
      "authorship_tag": "ABX9TyPmyWdwsjIz8a7dx3nzrlba",
      "include_colab_link": true
    },
    "kernelspec": {
      "name": "python3",
      "display_name": "Python 3"
    },
    "language_info": {
      "name": "python"
    }
  },
  "cells": [
    {
      "cell_type": "markdown",
      "metadata": {
        "id": "view-in-github",
        "colab_type": "text"
      },
      "source": [
        "<a href=\"https://colab.research.google.com/github/elichen/aoc2020/blob/main/Day_21_Allergen_Assessment.ipynb\" target=\"_parent\"><img src=\"https://colab.research.google.com/assets/colab-badge.svg\" alt=\"Open In Colab\"/></a>"
      ]
    },
    {
      "cell_type": "code",
      "execution_count": null,
      "metadata": {
        "id": "BIe--8zAIp6m"
      },
      "outputs": [],
      "source": [
        "input = '''mxmxvkd kfcds sqjhc nhms (contains dairy, fish)\n",
        "trh fvjkl sbzzf mxmxvkd (contains dairy)\n",
        "sqjhc fvjkl (contains soy)\n",
        "sqjhc mxmxvkd sbzzf (contains fish)'''.split('\\n')"
      ]
    },
    {
      "cell_type": "code",
      "source": [
        "input = [x.rstrip() for x in open(\"input.txt\").readlines()]"
      ],
      "metadata": {
        "id": "rzQcpyaZtJTR"
      },
      "execution_count": null,
      "outputs": []
    },
    {
      "cell_type": "code",
      "source": [
        "import re\n",
        "from functools import reduce\n",
        "\n",
        "i2a = {}\n",
        "a2i = {}\n",
        "for line in input:\n",
        "  pattern = re.compile(r'^(.+) \\(contains (.+)\\)$')\n",
        "  match = pattern.match(line)\n",
        "  if match:\n",
        "    ingredients = match.group(1).split(' ')\n",
        "    allergens = match.group(2).split(', ')\n",
        "    for ing in ingredients:\n",
        "      i2a.setdefault(ing,set()).update(set(allergens))\n",
        "    for al in allergens:\n",
        "      a2i.setdefault(al,[]).append(ingredients)\n",
        "\n",
        "for al in a2i.keys():\n",
        "  a2i[al] = list(reduce(lambda a, b: set(a) & set(b), a2i[al]))\n",
        "\n",
        "todo = True\n",
        "found_a = set()\n",
        "found_i = set()\n",
        "while todo:\n",
        "  todo = False\n",
        "  for al in a2i.keys():\n",
        "    if isinstance(a2i[al], list):\n",
        "      reduced = list(set(a2i[al]) - found_i)\n",
        "      if len(reduced) == 1:\n",
        "        found_i.add(reduced[0])\n",
        "        found_a.add(al)\n",
        "        todo = True\n",
        "        a2i[al] = reduced[0]\n",
        "\n",
        "count = 0\n",
        "for line in input:\n",
        "  pattern = re.compile(r'^(.+) \\(contains (.+)\\)$')\n",
        "  match = pattern.match(line)\n",
        "  if match:\n",
        "    ingredients = set(match.group(1).split(' '))\n",
        "    allergens = set(match.group(2).split(', '))\n",
        "    if len(allergens - found_a) == 0:\n",
        "      for ing in ingredients - found_i:\n",
        "        count += 1\n",
        "count"
      ],
      "metadata": {
        "colab": {
          "base_uri": "https://localhost:8080/"
        },
        "id": "j8LHKYUFIupS",
        "outputId": "139acd76-12dc-48c2-e8a0-9b5f2745b449"
      },
      "execution_count": null,
      "outputs": [
        {
          "output_type": "execute_result",
          "data": {
            "text/plain": [
              "2317"
            ]
          },
          "metadata": {},
          "execution_count": 35
        }
      ]
    },
    {
      "cell_type": "code",
      "source": [
        "\",\".join([a2i[x] for x in sorted(list(a2i.keys()))])"
      ],
      "metadata": {
        "colab": {
          "base_uri": "https://localhost:8080/",
          "height": 35
        },
        "id": "wKZ48eFbRRJG",
        "outputId": "a0683b93-3b2c-4a22-ee90-7ad2167e890d"
      },
      "execution_count": null,
      "outputs": [
        {
          "output_type": "execute_result",
          "data": {
            "text/plain": [
              "'kbdgs,sqvv,slkfgq,vgnj,brdd,tpd,csfmb,lrnz'"
            ],
            "application/vnd.google.colaboratory.intrinsic+json": {
              "type": "string"
            }
          },
          "metadata": {},
          "execution_count": 36
        }
      ]
    }
  ]
}