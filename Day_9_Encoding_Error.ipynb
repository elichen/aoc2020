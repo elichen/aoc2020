{
  "nbformat": 4,
  "nbformat_minor": 0,
  "metadata": {
    "colab": {
      "provenance": [],
      "authorship_tag": "ABX9TyNnXmnScPfyoN/av+KwriJl",
      "include_colab_link": true
    },
    "kernelspec": {
      "name": "python3",
      "display_name": "Python 3"
    },
    "language_info": {
      "name": "python"
    }
  },
  "cells": [
    {
      "cell_type": "markdown",
      "metadata": {
        "id": "view-in-github",
        "colab_type": "text"
      },
      "source": [
        "<a href=\"https://colab.research.google.com/github/elichen/aoc2020/blob/main/Day_9_Encoding_Error.ipynb\" target=\"_parent\"><img src=\"https://colab.research.google.com/assets/colab-badge.svg\" alt=\"Open In Colab\"/></a>"
      ]
    },
    {
      "cell_type": "code",
      "execution_count": null,
      "metadata": {
        "id": "o9e--aA6bIYM"
      },
      "outputs": [],
      "source": [
        "input = '''35\n",
        "20\n",
        "15\n",
        "25\n",
        "47\n",
        "40\n",
        "62\n",
        "55\n",
        "65\n",
        "95\n",
        "102\n",
        "117\n",
        "150\n",
        "182\n",
        "127\n",
        "219\n",
        "299\n",
        "277\n",
        "309\n",
        "576'''.split('\\n')"
      ]
    },
    {
      "cell_type": "code",
      "source": [
        "input = [x.rstrip() for x in open(\"input.txt\").readlines()]"
      ],
      "metadata": {
        "id": "rNSW-BD7d1X7"
      },
      "execution_count": null,
      "outputs": []
    },
    {
      "cell_type": "code",
      "source": [
        "p = 25\n",
        "s = set()\n",
        "for i in range(len(input)):\n",
        "  if i < p:\n",
        "    s.add(int(input[i]))\n",
        "  else:\n",
        "    n = int(input[i])\n",
        "    found = False\n",
        "    for t in s:\n",
        "      if n-t in s:\n",
        "        found = True\n",
        "        break\n",
        "    if not found:\n",
        "      print(\"found\",n)\n",
        "      for j in range(len(input)):\n",
        "        sum = int(input[j])\n",
        "        for k in range(j+1,len(input)):\n",
        "          sum += int(input[k])\n",
        "          if sum > n: break\n",
        "          if sum == n:\n",
        "            r = list(map(int,input[j:k+1]))\n",
        "            # print(\"range\",r)\n",
        "            print(\"weakness\",min(r)+max(r))\n",
        "            break\n",
        "      break\n",
        "    s.remove(int(input[i-p]))\n",
        "    s.add(n)"
      ],
      "metadata": {
        "colab": {
          "base_uri": "https://localhost:8080/"
        },
        "id": "p-ofKM0ubObh",
        "outputId": "ccc6787c-63e3-44aa-8db5-01e341e97cb6"
      },
      "execution_count": null,
      "outputs": [
        {
          "output_type": "stream",
          "name": "stdout",
          "text": [
            "found 257342611\n",
            "weakness 35602097\n"
          ]
        }
      ]
    },
    {
      "cell_type": "code",
      "source": [],
      "metadata": {
        "id": "U_NQkDumd6-V"
      },
      "execution_count": null,
      "outputs": []
    }
  ]
}