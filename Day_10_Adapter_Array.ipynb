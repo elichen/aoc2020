{
  "nbformat": 4,
  "nbformat_minor": 0,
  "metadata": {
    "colab": {
      "provenance": [],
      "authorship_tag": "ABX9TyNAMFsWI6eUAQ2o0j21Md8I",
      "include_colab_link": true
    },
    "kernelspec": {
      "name": "python3",
      "display_name": "Python 3"
    },
    "language_info": {
      "name": "python"
    }
  },
  "cells": [
    {
      "cell_type": "markdown",
      "metadata": {
        "id": "view-in-github",
        "colab_type": "text"
      },
      "source": [
        "<a href=\"https://colab.research.google.com/github/elichen/aoc2020/blob/main/Day_10_Adapter_Array.ipynb\" target=\"_parent\"><img src=\"https://colab.research.google.com/assets/colab-badge.svg\" alt=\"Open In Colab\"/></a>"
      ]
    },
    {
      "cell_type": "code",
      "execution_count": null,
      "metadata": {
        "id": "P_MN69MGfP6I"
      },
      "outputs": [],
      "source": [
        "input = '''28\n",
        "33\n",
        "18\n",
        "42\n",
        "31\n",
        "14\n",
        "46\n",
        "20\n",
        "48\n",
        "47\n",
        "24\n",
        "23\n",
        "49\n",
        "45\n",
        "19\n",
        "38\n",
        "39\n",
        "11\n",
        "1\n",
        "32\n",
        "25\n",
        "35\n",
        "8\n",
        "17\n",
        "7\n",
        "9\n",
        "4\n",
        "2\n",
        "34\n",
        "10\n",
        "3'''.split('\\n')"
      ]
    },
    {
      "cell_type": "code",
      "source": [
        "input = [x.rstrip() for x in open(\"input.txt\").readlines()]"
      ],
      "metadata": {
        "id": "7y5493mWg0Mz"
      },
      "execution_count": null,
      "outputs": []
    },
    {
      "cell_type": "code",
      "source": [
        "input = sorted(list(map(int,input)))\n",
        "input.append(max(input)+3)\n",
        "input.insert(0,0)"
      ],
      "metadata": {
        "id": "mrtBbSVHfmU5"
      },
      "execution_count": null,
      "outputs": []
    },
    {
      "cell_type": "code",
      "source": [
        "from collections import Counter"
      ],
      "metadata": {
        "id": "Yp8SRZFLfXoG"
      },
      "execution_count": null,
      "outputs": []
    },
    {
      "cell_type": "code",
      "source": [
        "c = Counter()\n",
        "prev = 0\n",
        "for n in input[1:]:\n",
        "  c[n-prev] += 1\n",
        "  prev = n\n",
        "c, c[1]*c[3]"
      ],
      "metadata": {
        "colab": {
          "base_uri": "https://localhost:8080/"
        },
        "id": "zQJpWOHMfTaf",
        "outputId": "7efabdef-a101-4787-a2f4-f6238f768d2c"
      },
      "execution_count": null,
      "outputs": [
        {
          "output_type": "execute_result",
          "data": {
            "text/plain": [
              "(Counter({1: 68, 3: 28}), 1904)"
            ]
          },
          "metadata": {},
          "execution_count": 33
        }
      ]
    },
    {
      "cell_type": "code",
      "source": [
        "ways = [1] * len(input)\n",
        "for i in range(1,len(input)):\n",
        "  n = int(input[i])\n",
        "  ways[i] = ways[i-1]\n",
        "  if i>=2 and n-int(input[i-2]) <= 3: ways[i] += ways[i-2]\n",
        "  if i>=3 and n-int(input[i-3]) <= 3: ways[i] += ways[i-3]\n",
        "ways[-1]"
      ],
      "metadata": {
        "colab": {
          "base_uri": "https://localhost:8080/"
        },
        "id": "fGSciEd1glwE",
        "outputId": "60a78a85-c76c-4006-e4d8-95542e2aaa3f"
      },
      "execution_count": null,
      "outputs": [
        {
          "output_type": "execute_result",
          "data": {
            "text/plain": [
              "10578455953408"
            ]
          },
          "metadata": {},
          "execution_count": 34
        }
      ]
    }
  ]
}