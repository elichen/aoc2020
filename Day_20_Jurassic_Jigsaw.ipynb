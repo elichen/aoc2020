{
  "nbformat": 4,
  "nbformat_minor": 0,
  "metadata": {
    "colab": {
      "provenance": [],
      "authorship_tag": "ABX9TyMu6gFoz9GesxMtsatT+zoX",
      "include_colab_link": true
    },
    "kernelspec": {
      "name": "python3",
      "display_name": "Python 3"
    },
    "language_info": {
      "name": "python"
    }
  },
  "cells": [
    {
      "cell_type": "markdown",
      "metadata": {
        "id": "view-in-github",
        "colab_type": "text"
      },
      "source": [
        "<a href=\"https://colab.research.google.com/github/elichen/aoc2020/blob/main/Day_20_Jurassic_Jigsaw.ipynb\" target=\"_parent\"><img src=\"https://colab.research.google.com/assets/colab-badge.svg\" alt=\"Open In Colab\"/></a>"
      ]
    },
    {
      "cell_type": "code",
      "execution_count": null,
      "metadata": {
        "id": "aDKU7kSDvaD6"
      },
      "outputs": [],
      "source": [
        "input = '''Tile 2311:\n",
        "..##.#..#.\n",
        "##..#.....\n",
        "#...##..#.\n",
        "####.#...#\n",
        "##.##.###.\n",
        "##...#.###\n",
        ".#.#.#..##\n",
        "..#....#..\n",
        "###...#.#.\n",
        "..###..###\n",
        "\n",
        "Tile 1951:\n",
        "#.##...##.\n",
        "#.####...#\n",
        ".....#..##\n",
        "#...######\n",
        ".##.#....#\n",
        ".###.#####\n",
        "###.##.##.\n",
        ".###....#.\n",
        "..#.#..#.#\n",
        "#...##.#..\n",
        "\n",
        "Tile 1171:\n",
        "####...##.\n",
        "#..##.#..#\n",
        "##.#..#.#.\n",
        ".###.####.\n",
        "..###.####\n",
        ".##....##.\n",
        ".#...####.\n",
        "#.##.####.\n",
        "####..#...\n",
        ".....##...\n",
        "\n",
        "Tile 1427:\n",
        "###.##.#..\n",
        ".#..#.##..\n",
        ".#.##.#..#\n",
        "#.#.#.##.#\n",
        "....#...##\n",
        "...##..##.\n",
        "...#.#####\n",
        ".#.####.#.\n",
        "..#..###.#\n",
        "..##.#..#.\n",
        "\n",
        "Tile 1489:\n",
        "##.#.#....\n",
        "..##...#..\n",
        ".##..##...\n",
        "..#...#...\n",
        "#####...#.\n",
        "#..#.#.#.#\n",
        "...#.#.#..\n",
        "##.#...##.\n",
        "..##.##.##\n",
        "###.##.#..\n",
        "\n",
        "Tile 2473:\n",
        "#....####.\n",
        "#..#.##...\n",
        "#.##..#...\n",
        "######.#.#\n",
        ".#...#.#.#\n",
        ".#########\n",
        ".###.#..#.\n",
        "########.#\n",
        "##...##.#.\n",
        "..###.#.#.\n",
        "\n",
        "Tile 2971:\n",
        "..#.#....#\n",
        "#...###...\n",
        "#.#.###...\n",
        "##.##..#..\n",
        ".#####..##\n",
        ".#..####.#\n",
        "#..#.#..#.\n",
        "..####.###\n",
        "..#.#.###.\n",
        "...#.#.#.#\n",
        "\n",
        "Tile 2729:\n",
        "...#.#.#.#\n",
        "####.#....\n",
        "..#.#.....\n",
        "....#..#.#\n",
        ".##..##.#.\n",
        ".#.####...\n",
        "####.#.#..\n",
        "##.####...\n",
        "##..#.##..\n",
        "#.##...##.\n",
        "\n",
        "Tile 3079:\n",
        "#.#.#####.\n",
        ".#..######\n",
        "..#.......\n",
        "######....\n",
        "####.#..#.\n",
        ".#...#.##.\n",
        "#.#####.##\n",
        "..#.###...\n",
        "..#.......\n",
        "..#.###...'''.split('\\n')"
      ]
    },
    {
      "cell_type": "code",
      "source": [
        "input = [x.rstrip() for x in open(\"input.txt\").readlines()]"
      ],
      "metadata": {
        "id": "3p2530vk6-oJ"
      },
      "execution_count": null,
      "outputs": []
    },
    {
      "cell_type": "code",
      "source": [
        "import numpy as np\n",
        "import re\n",
        "\n",
        "tiles = {}\n",
        "i = 0\n",
        "while i < len(input):\n",
        "  n = int(re.search(r'\\d+', input[i]).group())\n",
        "  i += 1\n",
        "  d = len(input[i])\n",
        "  tile = np.zeros((d,d))\n",
        "  for r in range(d):\n",
        "    for c in range(d):\n",
        "      if input[i+r][c] == '#': tile[r,c] = 1\n",
        "  tiles[n] = tile\n",
        "  i = i + d + 1\n",
        "\n",
        "d = int(len(tiles)**.5)"
      ],
      "metadata": {
        "id": "g_IMhnL5vh3h"
      },
      "execution_count": null,
      "outputs": []
    },
    {
      "cell_type": "code",
      "source": [
        "def fit_tiles(sofar, rest):\n",
        "    next_i = len(sofar)\n",
        "    r = next_i // d\n",
        "    c = next_i % d\n",
        "    for tile_id, tile in rest.items():\n",
        "        for transformed_tile in all_transforms(tile):\n",
        "            if fits(sofar, r, c, transformed_tile):\n",
        "                sofar[next_i] = (tile_id, transformed_tile)\n",
        "                rest_remaining = rest.copy()\n",
        "                rest_remaining.pop(tile_id)\n",
        "                result = fit_tiles(sofar, rest_remaining)\n",
        "                if result is not None:\n",
        "                    return result\n",
        "                sofar.pop(next_i)\n",
        "    if len(rest) == 0:\n",
        "        return sofar\n",
        "    return None\n",
        "\n",
        "\n",
        "def all_transforms(tile):\n",
        "    yield tile\n",
        "    for _ in range(3):\n",
        "        tile = np.rot90(tile)\n",
        "        yield tile\n",
        "    tile = np.flipud(tile)\n",
        "    yield tile\n",
        "    for _ in range(3):\n",
        "        tile = np.rot90(tile)\n",
        "        yield tile\n",
        "\n",
        "\n",
        "def fits(sofar, r, c, tile):\n",
        "    if r > 0 and not np.array_equal(sofar[(r - 1) * d + c][1][-1], tile[0]):\n",
        "        return False\n",
        "    if c > 0 and not np.array_equal(sofar[r * d + c - 1][1][:,-1], tile[:,0]):\n",
        "        return False\n",
        "    return True\n",
        "\n",
        "result = fit_tiles({}, tiles)"
      ],
      "metadata": {
        "id": "-FnaGvZx3u0p"
      },
      "execution_count": null,
      "outputs": []
    },
    {
      "cell_type": "code",
      "source": [
        "result.keys()"
      ],
      "metadata": {
        "colab": {
          "base_uri": "https://localhost:8080/"
        },
        "id": "aLcqRpiS6Kq0",
        "outputId": "3ac3d9ae-8ad4-4a3d-ee47-bda377e4cd00"
      },
      "execution_count": null,
      "outputs": [
        {
          "output_type": "execute_result",
          "data": {
            "text/plain": [
              "dict_keys([0, 1, 2, 3, 4, 5, 6, 7, 8, 9, 10, 11, 12, 13, 14, 15, 16, 17, 18, 19, 20, 21, 22, 23, 24, 25, 26, 27, 28, 29, 30, 31, 32, 33, 34, 35, 36, 37, 38, 39, 40, 41, 42, 43, 44, 45, 46, 47, 48, 49, 50, 51, 52, 53, 54, 55, 56, 57, 58, 59, 60, 61, 62, 63, 64, 65, 66, 67, 68, 69, 70, 71, 72, 73, 74, 75, 76, 77, 78, 79, 80, 81, 82, 83, 84, 85, 86, 87, 88, 89, 90, 91, 92, 93, 94, 95, 96, 97, 98, 99, 100, 101, 102, 103, 104, 105, 106, 107, 108, 109, 110, 111, 112, 113, 114, 115, 116, 117, 118, 119, 120, 121, 122, 123, 124, 125, 126, 127, 128, 129, 130, 131, 132, 133, 134, 135, 136, 137, 138, 139, 140, 141, 142, 143])"
            ]
          },
          "metadata": {},
          "execution_count": 21
        }
      ]
    },
    {
      "cell_type": "code",
      "source": [
        "total = 1\n",
        "for i in [0, d-1, (d-1)*d, (d-1)*d+(d-1)]:\n",
        "  total *= result[i][0]\n",
        "total"
      ],
      "metadata": {
        "colab": {
          "base_uri": "https://localhost:8080/"
        },
        "id": "Pg60TQuQ5sey",
        "outputId": "bd98622a-f01c-479c-e0fd-6ca3c9aca580"
      },
      "execution_count": null,
      "outputs": [
        {
          "output_type": "execute_result",
          "data": {
            "text/plain": [
              "64802175715999"
            ]
          },
          "metadata": {},
          "execution_count": 22
        }
      ]
    },
    {
      "cell_type": "code",
      "source": [
        "import numpy as np\n",
        "import math\n",
        "\n",
        "def join_tiles(tiles):\n",
        "    # remove the borders from the tiles\n",
        "    trimmed_tiles = [tile[1:-1, 1:-1] for tile in tiles]\n",
        "\n",
        "    # find the side length of the final large tile\n",
        "    n = int(math.sqrt(len(trimmed_tiles)))\n",
        "\n",
        "    # join the tiles\n",
        "    rows = []\n",
        "    for i in range(n):\n",
        "        row = np.concatenate(trimmed_tiles[i*n:(i+1)*n], axis=1)  # join tiles horizontally\n",
        "        rows.append(row)\n",
        "    full_tile = np.concatenate(rows, axis=0)  # join rows vertically\n",
        "\n",
        "    return full_tile"
      ],
      "metadata": {
        "id": "NAuqNzfQpKWp"
      },
      "execution_count": null,
      "outputs": []
    },
    {
      "cell_type": "code",
      "source": [
        "m = join_tiles([result[i][1] for i in range(d*d)])"
      ],
      "metadata": {
        "id": "lSnqeBT5notq"
      },
      "execution_count": null,
      "outputs": []
    },
    {
      "cell_type": "code",
      "source": [
        "import numpy as np\n",
        "\n",
        "np.set_printoptions(linewidth=np.inf)\n",
        "m"
      ],
      "metadata": {
        "colab": {
          "base_uri": "https://localhost:8080/"
        },
        "id": "dLEHewy6pNzA",
        "outputId": "555940c0-fc5c-4cca-d8f0-fa0000f453e7"
      },
      "execution_count": null,
      "outputs": [
        {
          "output_type": "execute_result",
          "data": {
            "text/plain": [
              "array([[0., 0., 0., ..., 0., 0., 0.],\n",
              "       [0., 0., 0., ..., 1., 0., 0.],\n",
              "       [0., 1., 0., ..., 0., 0., 0.],\n",
              "       ...,\n",
              "       [0., 0., 0., ..., 0., 1., 0.],\n",
              "       [1., 0., 1., ..., 1., 0., 0.],\n",
              "       [0., 0., 0., ..., 0., 1., 0.]])"
            ]
          },
          "metadata": {},
          "execution_count": 25
        }
      ]
    },
    {
      "cell_type": "code",
      "source": [
        "import numpy as np\n",
        "\n",
        "def search_pattern(large, pattern):\n",
        "    large_copied = large.copy()\n",
        "\n",
        "    large_rows, large_cols = large.shape\n",
        "    pattern_rows, pattern_cols = pattern.shape\n",
        "\n",
        "    for i in range(large_rows - pattern_rows + 1):\n",
        "        for j in range(large_cols - pattern_cols + 1):\n",
        "            window = large[i:i+pattern_rows, j:j+pattern_cols]\n",
        "\n",
        "            # Check if the pattern matches the window\n",
        "            if np.all((window == pattern) | (pattern == 0)):\n",
        "                # Mark the pattern in the copied large array\n",
        "                large_copied[i:i+pattern_rows, j:j+pattern_cols][pattern == 1] = 2\n",
        "\n",
        "    return large_copied\n"
      ],
      "metadata": {
        "id": "apv6Dgc0qpaS"
      },
      "execution_count": null,
      "outputs": []
    },
    {
      "cell_type": "code",
      "source": [
        "s = '''                  #\n",
        "#    ##    ##    ###\n",
        " #  #  #  #  #  #   '''.split('\\n')\n",
        "dragon = np.zeros((len(s),len(s[0])))\n",
        "for r in range(len(s)):\n",
        "  for c in range(len(s[0])):\n",
        "    if s[r][c] == '#': dragon[r,c] = 1"
      ],
      "metadata": {
        "id": "2sRUqHglrXk4"
      },
      "execution_count": null,
      "outputs": []
    },
    {
      "cell_type": "code",
      "source": [
        "for t in all_transforms(m):\n",
        "  res = search_pattern(t, dragon)\n",
        "  if np.sum(res == 2) > 0:\n",
        "    print(np.sum(res == 1))"
      ],
      "metadata": {
        "colab": {
          "base_uri": "https://localhost:8080/"
        },
        "id": "wzrLD4BrqqLF",
        "outputId": "c86c607e-1f93-4a3f-a5af-6ad6845e6eb6"
      },
      "execution_count": null,
      "outputs": [
        {
          "output_type": "stream",
          "name": "stdout",
          "text": [
            "2146\n"
          ]
        }
      ]
    }
  ]
}