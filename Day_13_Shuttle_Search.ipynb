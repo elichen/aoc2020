{
  "nbformat": 4,
  "nbformat_minor": 0,
  "metadata": {
    "colab": {
      "provenance": [],
      "authorship_tag": "ABX9TyPGMOlFbk5eo3LpPOfi88Bs",
      "include_colab_link": true
    },
    "kernelspec": {
      "name": "python3",
      "display_name": "Python 3"
    },
    "language_info": {
      "name": "python"
    }
  },
  "cells": [
    {
      "cell_type": "markdown",
      "metadata": {
        "id": "view-in-github",
        "colab_type": "text"
      },
      "source": [
        "<a href=\"https://colab.research.google.com/github/elichen/aoc2020/blob/main/Day_13_Shuttle_Search.ipynb\" target=\"_parent\"><img src=\"https://colab.research.google.com/assets/colab-badge.svg\" alt=\"Open In Colab\"/></a>"
      ]
    },
    {
      "cell_type": "code",
      "execution_count": null,
      "metadata": {
        "id": "4oMXEcXikVsT"
      },
      "outputs": [],
      "source": [
        "input = '''939\n",
        "7,13,x,x,59,x,31,19'''.split('\\n')"
      ]
    },
    {
      "cell_type": "code",
      "source": [
        "input = '''1001612\n",
        "19,x,x,x,x,x,x,x,x,41,x,x,x,37,x,x,x,x,x,821,x,x,x,x,x,x,x,x,x,x,x,x,13,x,x,x,17,x,x,x,x,x,x,x,x,x,x,x,29,x,463,x,x,x,x,x,x,x,x,x,x,x,x,x,x,x,x,x,x,x,x,x,x,23'''.split('\\n')"
      ],
      "metadata": {
        "id": "OUe8R-Kynrhi"
      },
      "execution_count": null,
      "outputs": []
    },
    {
      "cell_type": "code",
      "source": [
        "t = int(input[0])\n",
        "bs = [(i,int(x)) for i,x in enumerate(input[1].split(',')) if x != 'x']\n",
        "t,bs"
      ],
      "metadata": {
        "colab": {
          "base_uri": "https://localhost:8080/"
        },
        "id": "WUnbcYO9kalz",
        "outputId": "b131318e-ed75-4315-a71b-f1f1fb08e522"
      },
      "execution_count": null,
      "outputs": [
        {
          "output_type": "execute_result",
          "data": {
            "text/plain": [
              "(1001612,\n",
              " [(0, 19),\n",
              "  (9, 41),\n",
              "  (13, 37),\n",
              "  (19, 821),\n",
              "  (32, 13),\n",
              "  (36, 17),\n",
              "  (48, 29),\n",
              "  (50, 463),\n",
              "  (73, 23)])"
            ]
          },
          "metadata": {},
          "execution_count": 77
        }
      ]
    },
    {
      "cell_type": "code",
      "source": [
        "w = 10**10\n",
        "result = w\n",
        "for _,b in bs:\n",
        "  d = t // b\n",
        "  if t % b == 0:\n",
        "    w = 0\n",
        "    result = 0\n",
        "  else:\n",
        "    wait = (b*(d+1))-t\n",
        "    if wait < w:\n",
        "      w = wait\n",
        "      result = w*b\n",
        "result"
      ],
      "metadata": {
        "colab": {
          "base_uri": "https://localhost:8080/"
        },
        "id": "2M5rR4LmkwOx",
        "outputId": "7414a932-4291-4e63-cd1e-3f3cea1edf3d"
      },
      "execution_count": null,
      "outputs": [
        {
          "output_type": "execute_result",
          "data": {
            "text/plain": [
              "6568"
            ]
          },
          "metadata": {},
          "execution_count": 78
        }
      ]
    },
    {
      "cell_type": "code",
      "source": [
        "def extended_euclidean_algorithm(a, b):\n",
        "    if a == 0:\n",
        "        return b, 0, 1\n",
        "    else:\n",
        "        gcd, x, y = extended_euclidean_algorithm(b % a, a)\n",
        "        return gcd, y - (b // a) * x, x\n",
        "\n",
        "def modular_inverse(a, m):\n",
        "    gcd, x, _ = extended_euclidean_algorithm(a, m)\n",
        "    if gcd != 1:\n",
        "        raise Exception(f\"{a} and {m} are not coprime\")\n",
        "    else:\n",
        "        return x % m"
      ],
      "metadata": {
        "id": "qSMtvxaMuheL"
      },
      "execution_count": null,
      "outputs": []
    },
    {
      "cell_type": "code",
      "source": [
        "mods = [((b-a)%b,b) for a,b in bs]\n",
        "mods"
      ],
      "metadata": {
        "colab": {
          "base_uri": "https://localhost:8080/"
        },
        "id": "mrsj_g88IRtw",
        "outputId": "1211d908-45dd-4ba3-9a39-5fb87af0a25d"
      },
      "execution_count": null,
      "outputs": [
        {
          "output_type": "execute_result",
          "data": {
            "text/plain": [
              "[(0, 19),\n",
              " (32, 41),\n",
              " (24, 37),\n",
              " (802, 821),\n",
              " (7, 13),\n",
              " (15, 17),\n",
              " (10, 29),\n",
              " (413, 463),\n",
              " (19, 23)]"
            ]
          },
          "metadata": {},
          "execution_count": 80
        }
      ]
    },
    {
      "cell_type": "code",
      "source": [
        "from functools import reduce\n",
        "import operator\n",
        "\n",
        "prod = reduce(operator.mul, [x for i,x in mods])\n",
        "m_i = [prod//x for i,x in mods]\n",
        "m_inv = [modular_inverse(m_i[i],x[1]) for i,x in enumerate(mods)]\n",
        "s = sum([x[0]*m_i[i]*m_inv[i] for i,x in enumerate(mods)])\n",
        "s%prod"
      ],
      "metadata": {
        "colab": {
          "base_uri": "https://localhost:8080/"
        },
        "id": "eGggjaaipFeq",
        "outputId": "d933c6cf-27c0-4166-bf98-9f704afbbb9c"
      },
      "execution_count": null,
      "outputs": [
        {
          "output_type": "execute_result",
          "data": {
            "text/plain": [
              "554865447501099"
            ]
          },
          "metadata": {},
          "execution_count": 81
        }
      ]
    }
  ]
}