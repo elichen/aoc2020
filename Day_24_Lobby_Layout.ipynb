{
  "nbformat": 4,
  "nbformat_minor": 0,
  "metadata": {
    "colab": {
      "provenance": [],
      "authorship_tag": "ABX9TyMaR64fHcgOVQUyr7IfOb9L",
      "include_colab_link": true
    },
    "kernelspec": {
      "name": "python3",
      "display_name": "Python 3"
    },
    "language_info": {
      "name": "python"
    }
  },
  "cells": [
    {
      "cell_type": "markdown",
      "metadata": {
        "id": "view-in-github",
        "colab_type": "text"
      },
      "source": [
        "<a href=\"https://colab.research.google.com/github/elichen/aoc2020/blob/main/Day_24_Lobby_Layout.ipynb\" target=\"_parent\"><img src=\"https://colab.research.google.com/assets/colab-badge.svg\" alt=\"Open In Colab\"/></a>"
      ]
    },
    {
      "cell_type": "code",
      "execution_count": null,
      "metadata": {
        "id": "uTNq3zlZp2HT"
      },
      "outputs": [],
      "source": [
        "input = '''sesenwnenenewseeswwswswwnenewsewsw\n",
        "neeenesenwnwwswnenewnwwsewnenwseswesw\n",
        "seswneswswsenwwnwse\n",
        "nwnwneseeswswnenewneswwnewseswneseene\n",
        "swweswneswnenwsewnwneneseenw\n",
        "eesenwseswswnenwswnwnwsewwnwsene\n",
        "sewnenenenesenwsewnenwwwse\n",
        "wenwwweseeeweswwwnwwe\n",
        "wsweesenenewnwwnwsenewsenwwsesesenwne\n",
        "neeswseenwwswnwswswnw\n",
        "nenwswwsewswnenenewsenwsenwnesesenew\n",
        "enewnwewneswsewnwswenweswnenwsenwsw\n",
        "sweneswneswneneenwnewenewwneswswnese\n",
        "swwesenesewenwneswnwwneseswwne\n",
        "enesenwswwswneneswsenwnewswseenwsese\n",
        "wnwnesenesenenwwnenwsewesewsesesew\n",
        "nenewswnwewswnenesenwnesewesw\n",
        "eneswnwswnwsenenwnwnwwseeswneewsenese\n",
        "neswnwewnwnwseenwseesewsenwsweewe\n",
        "wseweeenwnesenwwwswnew'''.split('\\n')"
      ]
    },
    {
      "cell_type": "code",
      "source": [
        "input = open(\"input.txt\").readlines()\n",
        "input = [x.rstrip() for x in input]"
      ],
      "metadata": {
        "id": "CosCeomYz83_"
      },
      "execution_count": null,
      "outputs": []
    },
    {
      "cell_type": "code",
      "source": [
        "def parse(s):\n",
        "  i = 0\n",
        "  x,y = 0,0\n",
        "  while i < len(s):\n",
        "    if s[i] == 'e':\n",
        "      x += 1\n",
        "    elif s[i] == 'w':\n",
        "      x -= 1\n",
        "    elif s[i] == 'n':\n",
        "      y += 1\n",
        "      i += 1\n",
        "      if s[i] == 'e':\n",
        "        x += 1\n",
        "    elif s[i] == 's':\n",
        "      y -= 1\n",
        "      i += 1\n",
        "      if s[i] == 'w':\n",
        "        x -= 1\n",
        "    i += 1\n",
        "  return x,y"
      ],
      "metadata": {
        "id": "wX4eGHM5qA7q"
      },
      "execution_count": null,
      "outputs": []
    },
    {
      "cell_type": "code",
      "source": [
        "tiles = set()\n",
        "for line in input:\n",
        "  loc = parse(line)\n",
        "  if loc in tiles:\n",
        "    tiles.remove(loc)\n",
        "  else:\n",
        "    tiles.add(loc)\n",
        "len(tiles)"
      ],
      "metadata": {
        "colab": {
          "base_uri": "https://localhost:8080/"
        },
        "id": "AAtiIwqHqDPH",
        "outputId": "54ade13a-b050-41de-8d86-cf2609e40214"
      },
      "execution_count": null,
      "outputs": [
        {
          "output_type": "execute_result",
          "data": {
            "text/plain": [
              "228"
            ]
          },
          "metadata": {},
          "execution_count": 36
        }
      ]
    },
    {
      "cell_type": "code",
      "source": [
        "def adjacent(tile):\n",
        "  res = set()\n",
        "  res.add((tile[0],tile[1]+1))\n",
        "  res.add((tile[0]+1,tile[1]+1))\n",
        "  res.add((tile[0]-1,tile[1]))\n",
        "  res.add((tile[0]+1,tile[1]))\n",
        "  res.add((tile[0]-1,tile[1]-1))\n",
        "  res.add((tile[0],tile[1]-1))\n",
        "  return res"
      ],
      "metadata": {
        "id": "m6rMZCPI0Exh"
      },
      "execution_count": null,
      "outputs": []
    },
    {
      "cell_type": "code",
      "source": [
        "start = tiles.copy()\n",
        "for _ in range(100):\n",
        "  new_tiles = set()\n",
        "  whites = {}\n",
        "  for tile in start:\n",
        "    adj = adjacent(tile)\n",
        "    blacks = adj & start\n",
        "    if len(blacks) == 1 or len(blacks) == 2:\n",
        "      new_tiles.add(tile)\n",
        "    for w in adj.difference(start):\n",
        "      whites[w] = whites.get(w,0)+1\n",
        "  for k,v in whites.items():\n",
        "    if v == 2:\n",
        "      new_tiles.add(k)\n",
        "  print(len(new_tiles))\n",
        "  start = new_tiles"
      ],
      "metadata": {
        "colab": {
          "base_uri": "https://localhost:8080/"
        },
        "id": "xZ8ZnjFQ486M",
        "outputId": "45f057d0-c780-4e44-d086-104f1a89bcde"
      },
      "execution_count": null,
      "outputs": [
        {
          "output_type": "stream",
          "name": "stdout",
          "text": [
            "252\n",
            "236\n",
            "263\n",
            "273\n",
            "307\n",
            "308\n",
            "319\n",
            "321\n",
            "374\n",
            "352\n",
            "361\n",
            "403\n",
            "437\n",
            "436\n",
            "454\n",
            "470\n",
            "507\n",
            "466\n",
            "537\n",
            "552\n",
            "604\n",
            "572\n",
            "610\n",
            "657\n",
            "670\n",
            "668\n",
            "729\n",
            "784\n",
            "753\n",
            "837\n",
            "828\n",
            "805\n",
            "888\n",
            "852\n",
            "898\n",
            "938\n",
            "1013\n",
            "941\n",
            "1048\n",
            "1065\n",
            "1109\n",
            "1160\n",
            "1134\n",
            "1186\n",
            "1192\n",
            "1212\n",
            "1315\n",
            "1285\n",
            "1364\n",
            "1435\n",
            "1426\n",
            "1448\n",
            "1452\n",
            "1485\n",
            "1555\n",
            "1574\n",
            "1612\n",
            "1626\n",
            "1665\n",
            "1776\n",
            "1841\n",
            "1834\n",
            "1748\n",
            "1894\n",
            "1897\n",
            "2037\n",
            "2058\n",
            "2114\n",
            "2067\n",
            "2219\n",
            "2220\n",
            "2257\n",
            "2240\n",
            "2380\n",
            "2379\n",
            "2486\n",
            "2402\n",
            "2545\n",
            "2589\n",
            "2608\n",
            "2734\n",
            "2670\n",
            "2770\n",
            "2757\n",
            "2858\n",
            "2807\n",
            "2941\n",
            "2967\n",
            "3127\n",
            "3026\n",
            "3154\n",
            "3260\n",
            "3266\n",
            "3283\n",
            "3389\n",
            "3346\n",
            "3526\n",
            "3571\n",
            "3523\n",
            "3672\n"
          ]
        }
      ]
    }
  ]
}