{
  "nbformat": 4,
  "nbformat_minor": 0,
  "metadata": {
    "colab": {
      "provenance": [],
      "authorship_tag": "ABX9TyNyMZdwn8sCLND6Zakcvlsk",
      "include_colab_link": true
    },
    "kernelspec": {
      "name": "python3",
      "display_name": "Python 3"
    },
    "language_info": {
      "name": "python"
    }
  },
  "cells": [
    {
      "cell_type": "markdown",
      "metadata": {
        "id": "view-in-github",
        "colab_type": "text"
      },
      "source": [
        "<a href=\"https://colab.research.google.com/github/elichen/aoc2020/blob/main/Day_2_Password_Philosophy.ipynb\" target=\"_parent\"><img src=\"https://colab.research.google.com/assets/colab-badge.svg\" alt=\"Open In Colab\"/></a>"
      ]
    },
    {
      "cell_type": "code",
      "execution_count": null,
      "metadata": {
        "id": "IzmDuN04oVXt"
      },
      "outputs": [],
      "source": [
        "input = '''1-3 a: abcde\n",
        "1-3 b: cdefg\n",
        "2-9 c: ccccccccc'''.split('\\n')"
      ]
    },
    {
      "cell_type": "code",
      "source": [
        "input = [x.rstrip() for x in open(\"input.txt\").readlines()]"
      ],
      "metadata": {
        "id": "NAAkm4RAplVV"
      },
      "execution_count": null,
      "outputs": []
    },
    {
      "cell_type": "code",
      "source": [
        "from collections import Counter\n",
        "\n",
        "nv = 0\n",
        "for line in input:\n",
        "  a,b,c = line.split()\n",
        "  a = list(map(int,a.split(\"-\")))\n",
        "  b = b[0]\n",
        "  n = Counter(c).get(b,0)\n",
        "  if n >= a[0] and n <= a[1]:\n",
        "    nv += 1\n",
        "nv"
      ],
      "metadata": {
        "colab": {
          "base_uri": "https://localhost:8080/"
        },
        "id": "9Bz5evK0oZQG",
        "outputId": "7166f8d4-e9e5-4609-a5b2-313159da2318"
      },
      "execution_count": null,
      "outputs": [
        {
          "output_type": "execute_result",
          "data": {
            "text/plain": [
              "393"
            ]
          },
          "metadata": {},
          "execution_count": 20
        }
      ]
    },
    {
      "cell_type": "code",
      "source": [
        "nv = 0\n",
        "for line in input:\n",
        "  a,b,c = line.split()\n",
        "  a = list(map(int,a.split(\"-\")))\n",
        "  b = b[0]\n",
        "  if (c[a[0]-1] == b) ^ (c[a[1]-1] == b):\n",
        "    nv += 1\n",
        "nv"
      ],
      "metadata": {
        "colab": {
          "base_uri": "https://localhost:8080/"
        },
        "id": "81BrgV3Hp6r2",
        "outputId": "df028ca2-fd52-4736-cce5-835b67e09ec4"
      },
      "execution_count": null,
      "outputs": [
        {
          "output_type": "execute_result",
          "data": {
            "text/plain": [
              "690"
            ]
          },
          "metadata": {},
          "execution_count": 21
        }
      ]
    }
  ]
}