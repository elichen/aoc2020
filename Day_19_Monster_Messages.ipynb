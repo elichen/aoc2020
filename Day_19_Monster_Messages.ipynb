{
  "nbformat": 4,
  "nbformat_minor": 0,
  "metadata": {
    "colab": {
      "provenance": [],
      "authorship_tag": "ABX9TyPXuG96HKbCILF6v6WEZXTE",
      "include_colab_link": true
    },
    "kernelspec": {
      "name": "python3",
      "display_name": "Python 3"
    },
    "language_info": {
      "name": "python"
    }
  },
  "cells": [
    {
      "cell_type": "markdown",
      "metadata": {
        "id": "view-in-github",
        "colab_type": "text"
      },
      "source": [
        "<a href=\"https://colab.research.google.com/github/elichen/aoc2020/blob/main/Day_19_Monster_Messages.ipynb\" target=\"_parent\"><img src=\"https://colab.research.google.com/assets/colab-badge.svg\" alt=\"Open In Colab\"/></a>"
      ]
    },
    {
      "cell_type": "code",
      "execution_count": null,
      "metadata": {
        "id": "RvvmO78D5ZVs"
      },
      "outputs": [],
      "source": [
        "input = '''0: 4 1 5\n",
        "1: 2 3 | 3 2\n",
        "2: 4 4 | 5 5\n",
        "3: 4 5 | 5 4\n",
        "4: \"a\"\n",
        "5: \"b\"\n",
        "\n",
        "ababbb\n",
        "bababa\n",
        "abbbab\n",
        "aaabbb\n",
        "aaaabbb'''.split('\\n')"
      ]
    },
    {
      "cell_type": "code",
      "source": [
        "input = '''42: 9 14 | 10 1\n",
        "9: 14 27 | 1 26\n",
        "10: 23 14 | 28 1\n",
        "1: \"a\"\n",
        "11: 42 31\n",
        "5: 1 14 | 15 1\n",
        "19: 14 1 | 14 14\n",
        "12: 24 14 | 19 1\n",
        "16: 15 1 | 14 14\n",
        "31: 14 17 | 1 13\n",
        "6: 14 14 | 1 14\n",
        "2: 1 24 | 14 4\n",
        "0: 8 11\n",
        "13: 14 3 | 1 12\n",
        "15: 1 | 14\n",
        "17: 14 2 | 1 7\n",
        "23: 25 1 | 22 14\n",
        "28: 16 1\n",
        "4: 1 1\n",
        "20: 14 14 | 1 15\n",
        "3: 5 14 | 16 1\n",
        "27: 1 6 | 14 18\n",
        "14: \"b\"\n",
        "21: 14 1 | 1 14\n",
        "25: 1 1 | 1 14\n",
        "22: 14 14\n",
        "8: 42\n",
        "26: 14 22 | 1 20\n",
        "18: 15 15\n",
        "7: 14 5 | 1 21\n",
        "24: 14 1\n",
        "\n",
        "abbbbbabbbaaaababbaabbbbabababbbabbbbbbabaaaa\n",
        "bbabbbbaabaabba\n",
        "babbbbaabbbbbabbbbbbaabaaabaaa\n",
        "aaabbbbbbaaaabaababaabababbabaaabbababababaaa\n",
        "bbbbbbbaaaabbbbaaabbabaaa\n",
        "bbbababbbbaaaaaaaabbababaaababaabab\n",
        "ababaaaaaabaaab\n",
        "ababaaaaabbbaba\n",
        "baabbaaaabbaaaababbaababb\n",
        "abbbbabbbbaaaababbbbbbaaaababb\n",
        "aaaaabbaabaaaaababaa\n",
        "aaaabbaaaabbaaa\n",
        "aaaabbaabbaaaaaaabbbabbbaaabbaabaaa\n",
        "babaaabbbaaabaababbaabababaaab\n",
        "aabbbbbaabbbaaaaaabbbbbababaaaaabbaaabba'''.split('\\n')"
      ],
      "metadata": {
        "id": "xPGNi6Twlfmx"
      },
      "execution_count": null,
      "outputs": []
    },
    {
      "cell_type": "code",
      "source": [
        "# input = [x.rstrip() for x in open(\"input.txt\").readlines()]"
      ],
      "metadata": {
        "id": "yrz18zZ_i2O4"
      },
      "execution_count": null,
      "outputs": []
    },
    {
      "cell_type": "code",
      "source": [
        "rules = {}\n",
        "i = 0\n",
        "while input[i] != \"\":\n",
        "  k,v = input[i].split(':')\n",
        "  if '\"' in v:\n",
        "    rules[k] = v.replace('\"','').strip()\n",
        "  else:\n",
        "    rules[k] = [x.split() for x in v.split('|')]\n",
        "  i += 1\n",
        "messages = input[i+1:]"
      ],
      "metadata": {
        "id": "nhp2ZDUq2oXC"
      },
      "execution_count": null,
      "outputs": []
    },
    {
      "cell_type": "code",
      "source": [
        "def check(s, i, k):\n",
        "  if i >= len(s):\n",
        "    return [(False,0)]\n",
        "  v = rules[k]\n",
        "  if type(v) == str:\n",
        "    return [(s[i]==v, i+1)]\n",
        "  else:\n",
        "    results = []\n",
        "    for option in v:\n",
        "      indices = [i]\n",
        "      for rule in option:\n",
        "        new_indices = []\n",
        "        for ti in indices:\n",
        "          result = check(s, ti, rule)\n",
        "          new_indices.extend([x[1] for x in result if x[0]])\n",
        "        indices = new_indices\n",
        "      results.extend([(True,x) for x in indices])\n",
        "    return results if results else [(False,0)]\n",
        "def check_message(s):\n",
        "  res =  check(s,0,\"0\")\n",
        "  return any([r and i == len(s) for (r,i) in res])"
      ],
      "metadata": {
        "id": "8sdIAl4t5jBT"
      },
      "execution_count": null,
      "outputs": []
    },
    {
      "cell_type": "code",
      "source": [
        "count = 0\n",
        "for m in messages:\n",
        "  if check_message(m): count += 1\n",
        "count"
      ],
      "metadata": {
        "colab": {
          "base_uri": "https://localhost:8080/"
        },
        "id": "RsfELIEmieV8",
        "outputId": "9c48dbf6-588c-4098-be96-a988bbc16efb"
      },
      "execution_count": null,
      "outputs": [
        {
          "output_type": "execute_result",
          "data": {
            "text/plain": [
              "3"
            ]
          },
          "metadata": {},
          "execution_count": 103
        }
      ]
    },
    {
      "cell_type": "code",
      "source": [
        "rules['8'] = [['42'], ['42','8']]\n",
        "rules['11'] = [['42','31'], ['42','11','31']]"
      ],
      "metadata": {
        "id": "hAx0ZfA2llOi"
      },
      "execution_count": null,
      "outputs": []
    },
    {
      "cell_type": "code",
      "source": [
        "count = 0\n",
        "for m in messages:\n",
        "  if check_message(m): count += 1\n",
        "count"
      ],
      "metadata": {
        "colab": {
          "base_uri": "https://localhost:8080/"
        },
        "id": "35FXuHPol_MI",
        "outputId": "ed806400-ce3c-4a51-e33d-e39dfa8525b2"
      },
      "execution_count": null,
      "outputs": [
        {
          "output_type": "execute_result",
          "data": {
            "text/plain": [
              "12"
            ]
          },
          "metadata": {},
          "execution_count": 105
        }
      ]
    }
  ]
}