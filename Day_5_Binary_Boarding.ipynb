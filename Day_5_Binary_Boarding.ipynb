{
  "nbformat": 4,
  "nbformat_minor": 0,
  "metadata": {
    "colab": {
      "provenance": [],
      "authorship_tag": "ABX9TyOd8qIY/F8FTzjJaxLHBJz4",
      "include_colab_link": true
    },
    "kernelspec": {
      "name": "python3",
      "display_name": "Python 3"
    },
    "language_info": {
      "name": "python"
    }
  },
  "cells": [
    {
      "cell_type": "markdown",
      "metadata": {
        "id": "view-in-github",
        "colab_type": "text"
      },
      "source": [
        "<a href=\"https://colab.research.google.com/github/elichen/aoc2020/blob/main/Day_5_Binary_Boarding.ipynb\" target=\"_parent\"><img src=\"https://colab.research.google.com/assets/colab-badge.svg\" alt=\"Open In Colab\"/></a>"
      ]
    },
    {
      "cell_type": "code",
      "execution_count": null,
      "metadata": {
        "id": "nFwJsZzsLdPj"
      },
      "outputs": [],
      "source": [
        "input = '''FBFBBFFRLR\n",
        "BFFFBBFRRR\n",
        "FFFBBBFRRR\n",
        "BBFFBBFRLL'''.split('\\n')"
      ]
    },
    {
      "cell_type": "code",
      "source": [
        "input = [x.rstrip() for x in open(\"input.txt\").readlines()]"
      ],
      "metadata": {
        "id": "YIP2gJ4nNWBD"
      },
      "execution_count": null,
      "outputs": []
    },
    {
      "cell_type": "code",
      "source": [
        "hi = 0\n",
        "ids = set()\n",
        "for line in input:\n",
        "  l,h = 0,127\n",
        "  for c in line[:7]:\n",
        "    if c == 'F':\n",
        "      h = h - ((h-l)//2+1)\n",
        "    else:\n",
        "      l = l + ((h-l)//2+1)\n",
        "  row = l\n",
        "  l,h = 0,7\n",
        "  for c in line[-3:]:\n",
        "    if c == 'L':\n",
        "      h = h - ((h-l)//2+1)\n",
        "    else:\n",
        "      l = l + ((h-l)//2+1)\n",
        "  col = l\n",
        "  hi = max(hi,row*8+col)\n",
        "  ids.add(row*8+col)\n",
        "print(hi)"
      ],
      "metadata": {
        "colab": {
          "base_uri": "https://localhost:8080/"
        },
        "id": "YfhgyPi-Ll8V",
        "outputId": "d08c8b9e-52fd-4709-9b07-ff93eb22ecd7"
      },
      "execution_count": null,
      "outputs": [
        {
          "output_type": "stream",
          "name": "stdout",
          "text": [
            "955\n"
          ]
        }
      ]
    },
    {
      "cell_type": "code",
      "source": [
        "def find_missing_number(numbers, start):\n",
        "    n = len(numbers) + 1\n",
        "    expected_sum = (n * (2 * start + n - 1)) // 2\n",
        "    actual_sum = sum(numbers)\n",
        "    missing_number = expected_sum - actual_sum\n",
        "    return missing_number\n",
        "ids = sorted(list(ids))\n",
        "find_missing_number(ids,ids[0])"
      ],
      "metadata": {
        "colab": {
          "base_uri": "https://localhost:8080/"
        },
        "id": "Negkd7rZOfAU",
        "outputId": "238a7cc4-1cb9-4ec7-afed-ecdd31d47902"
      },
      "execution_count": null,
      "outputs": [
        {
          "output_type": "execute_result",
          "data": {
            "text/plain": [
              "569"
            ]
          },
          "metadata": {},
          "execution_count": 31
        }
      ]
    }
  ]
}