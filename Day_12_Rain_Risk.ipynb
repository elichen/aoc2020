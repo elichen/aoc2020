{
  "nbformat": 4,
  "nbformat_minor": 0,
  "metadata": {
    "colab": {
      "provenance": [],
      "authorship_tag": "ABX9TyNAl0ffOWc8HBdDDTITS/Z1",
      "include_colab_link": true
    },
    "kernelspec": {
      "name": "python3",
      "display_name": "Python 3"
    },
    "language_info": {
      "name": "python"
    }
  },
  "cells": [
    {
      "cell_type": "markdown",
      "metadata": {
        "id": "view-in-github",
        "colab_type": "text"
      },
      "source": [
        "<a href=\"https://colab.research.google.com/github/elichen/aoc2020/blob/main/Day_12_Rain_Risk.ipynb\" target=\"_parent\"><img src=\"https://colab.research.google.com/assets/colab-badge.svg\" alt=\"Open In Colab\"/></a>"
      ]
    },
    {
      "cell_type": "code",
      "execution_count": null,
      "metadata": {
        "id": "232LR48CnJmc"
      },
      "outputs": [],
      "source": [
        "input = '''F10\n",
        "N3\n",
        "F7\n",
        "R90\n",
        "F11'''.split('\\n')"
      ]
    },
    {
      "cell_type": "code",
      "source": [
        "input = [x.rstrip() for x in open(\"input.txt\")]"
      ],
      "metadata": {
        "id": "ydVny3f-dEl1"
      },
      "execution_count": null,
      "outputs": []
    },
    {
      "cell_type": "code",
      "source": [
        "x,y = 0,0\n",
        "dirs = [(1,0),(0,-1),(-1,0),(0,1)]\n",
        "facing = 0\n",
        "for line in input:\n",
        "  act = line[0]\n",
        "  val = int(line[1:])\n",
        "  if act == \"N\":\n",
        "    y += val\n",
        "  elif act == \"S\":\n",
        "    y -= val\n",
        "  elif act == \"E\":\n",
        "    x += val\n",
        "  elif act == \"W\":\n",
        "    x -= val\n",
        "  elif act == \"R\":\n",
        "    facing = (facing+(val//90))%4\n",
        "  elif act == \"L\":\n",
        "    facing = (facing-(val//90))%4\n",
        "  elif act == \"F\":\n",
        "    x,y = x+dirs[facing][0]*val, y+dirs[facing][1]*val\n",
        "abs(x)+abs(y)"
      ],
      "metadata": {
        "colab": {
          "base_uri": "https://localhost:8080/"
        },
        "id": "q6QrhXuwnNen",
        "outputId": "815a386a-a67e-49ae-aa28-0c096b51f7a1"
      },
      "execution_count": null,
      "outputs": [
        {
          "output_type": "execute_result",
          "data": {
            "text/plain": [
              "1496"
            ]
          },
          "metadata": {},
          "execution_count": 9
        }
      ]
    },
    {
      "cell_type": "code",
      "source": [
        "dx,dy = 10,1\n",
        "x,y = 0,0\n",
        "for line in input:\n",
        "  act = line[0]\n",
        "  val = int(line[1:])\n",
        "  if act == \"N\":\n",
        "    dy += val\n",
        "  elif act == \"S\":\n",
        "    dy -= val\n",
        "  elif act == \"E\":\n",
        "    dx += val\n",
        "  elif act == \"W\":\n",
        "    dx -= val\n",
        "  elif act == \"R\":\n",
        "    if val == 90:\n",
        "      dx,dy = dy,-dx\n",
        "    elif val == 180:\n",
        "      dx,dy = -dx,-dy\n",
        "    elif val == 270:\n",
        "      dx,dy = -dy,dx\n",
        "  elif act == \"L\":\n",
        "    if val == 90:\n",
        "      dx,dy = -dy,dx\n",
        "    elif val == 180:\n",
        "      dx,dy = -dx,-dy\n",
        "    elif val == 270:\n",
        "      dx,dy = dy,-dx\n",
        "  elif act == \"F\":\n",
        "    x,y = x+val*dx, y+val*dy\n",
        "abs(x)+abs(y)"
      ],
      "metadata": {
        "colab": {
          "base_uri": "https://localhost:8080/"
        },
        "id": "Z3L64_JKavh8",
        "outputId": "094a8612-de95-41e0-87c4-cbbdbe7abed6"
      },
      "execution_count": null,
      "outputs": [
        {
          "output_type": "execute_result",
          "data": {
            "text/plain": [
              "63843"
            ]
          },
          "metadata": {},
          "execution_count": 10
        }
      ]
    }
  ]
}