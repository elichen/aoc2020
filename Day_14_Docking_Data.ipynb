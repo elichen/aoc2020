{
  "nbformat": 4,
  "nbformat_minor": 0,
  "metadata": {
    "colab": {
      "provenance": [],
      "authorship_tag": "ABX9TyNEX6M642qVhdgFtItFrDpN",
      "include_colab_link": true
    },
    "kernelspec": {
      "name": "python3",
      "display_name": "Python 3"
    },
    "language_info": {
      "name": "python"
    }
  },
  "cells": [
    {
      "cell_type": "markdown",
      "metadata": {
        "id": "view-in-github",
        "colab_type": "text"
      },
      "source": [
        "<a href=\"https://colab.research.google.com/github/elichen/aoc2020/blob/main/Day_14_Docking_Data.ipynb\" target=\"_parent\"><img src=\"https://colab.research.google.com/assets/colab-badge.svg\" alt=\"Open In Colab\"/></a>"
      ]
    },
    {
      "cell_type": "code",
      "execution_count": null,
      "metadata": {
        "id": "uBV2w_d5-Pew"
      },
      "outputs": [],
      "source": [
        "input = '''mask = 000000000000000000000000000000X1001X\n",
        "mem[42] = 100\n",
        "mask = 00000000000000000000000000000000X0XX\n",
        "mem[26] = 1'''.split('\\n')"
      ]
    },
    {
      "cell_type": "code",
      "source": [
        "input = [x.rstrip() for x in open(\"input.txt\").readlines()]"
      ],
      "metadata": {
        "id": "HTvwdjtUCE-P"
      },
      "execution_count": null,
      "outputs": []
    },
    {
      "cell_type": "code",
      "source": [
        "def apply_bitmask(number, bitmask):\n",
        "    result = 0\n",
        "    for i in range(36):\n",
        "        bit = 1 << (35 - i)\n",
        "        if bitmask[i] == '1':\n",
        "            result |= bit\n",
        "        elif bitmask[i] == '0':\n",
        "            continue\n",
        "        else:\n",
        "            result |= (number & bit)\n",
        "    return result"
      ],
      "metadata": {
        "id": "cbo6MwY3-YnM"
      },
      "execution_count": null,
      "outputs": []
    },
    {
      "cell_type": "code",
      "source": [
        "import re\n",
        "\n",
        "mem = {}\n",
        "mask = \"\"\n",
        "for line in input:\n",
        "    if line.startswith(\"mask\"):\n",
        "      mask = line.split()[-1]\n",
        "    else:\n",
        "      pattern = r'mem\\[(\\d+)\\] = (\\d+)'\n",
        "      key,value = re.match(pattern, line).groups()\n",
        "      mem[key] = apply_bitmask(int(value),mask)\n",
        "sum(mem.values())"
      ],
      "metadata": {
        "colab": {
          "base_uri": "https://localhost:8080/"
        },
        "id": "uV77izEPAae_",
        "outputId": "9d772f67-a81e-4dfe-86ec-53a090a08602"
      },
      "execution_count": null,
      "outputs": [
        {
          "output_type": "execute_result",
          "data": {
            "text/plain": [
              "6513443633260"
            ]
          },
          "metadata": {},
          "execution_count": 45
        }
      ]
    },
    {
      "cell_type": "code",
      "source": [
        "def apply_bitmask2(address, bitmask):\n",
        "    result = [0]\n",
        "    for i in range(36):\n",
        "        bit = 1 << (35 - i)\n",
        "        if bitmask[i] == '1':\n",
        "            result = [x|bit for x in result]\n",
        "        elif bitmask[i] == '0':\n",
        "            result = [(address&bit)|x for x in result]\n",
        "        else:\n",
        "            tmp = result.copy()\n",
        "            result = [x|bit for x in result] + tmp\n",
        "    return result"
      ],
      "metadata": {
        "id": "U4aH-uGsQPLb"
      },
      "execution_count": null,
      "outputs": []
    },
    {
      "cell_type": "code",
      "source": [
        "import re\n",
        "\n",
        "mem = {}\n",
        "mask = \"\"\n",
        "for line in input:\n",
        "    if line.startswith(\"mask\"):\n",
        "      mask = line.split()[-1]\n",
        "    else:\n",
        "      pattern = r'mem\\[(\\d+)\\] = (\\d+)'\n",
        "      key,value = re.match(pattern, line).groups()\n",
        "      addrs = apply_bitmask2(int(key),mask)\n",
        "      mem.update({a:int(value) for a in addrs})\n",
        "sum(mem.values())"
      ],
      "metadata": {
        "colab": {
          "base_uri": "https://localhost:8080/"
        },
        "id": "4lQvXIpjryJQ",
        "outputId": "55111dc0-7f32-4eb6-8331-46476eeb7ac3"
      },
      "execution_count": null,
      "outputs": [
        {
          "output_type": "execute_result",
          "data": {
            "text/plain": [
              "3442819875191"
            ]
          },
          "metadata": {},
          "execution_count": 47
        }
      ]
    },
    {
      "cell_type": "code",
      "source": [],
      "metadata": {
        "id": "XwPgQpArtb8c"
      },
      "execution_count": null,
      "outputs": []
    }
  ]
}