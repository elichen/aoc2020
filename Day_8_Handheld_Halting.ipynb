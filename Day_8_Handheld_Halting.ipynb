{
  "nbformat": 4,
  "nbformat_minor": 0,
  "metadata": {
    "colab": {
      "provenance": [],
      "authorship_tag": "ABX9TyME1SfR54NqVQxtT5/XsrGY",
      "include_colab_link": true
    },
    "kernelspec": {
      "name": "python3",
      "display_name": "Python 3"
    },
    "language_info": {
      "name": "python"
    }
  },
  "cells": [
    {
      "cell_type": "markdown",
      "metadata": {
        "id": "view-in-github",
        "colab_type": "text"
      },
      "source": [
        "<a href=\"https://colab.research.google.com/github/elichen/aoc2020/blob/main/Day_8_Handheld_Halting.ipynb\" target=\"_parent\"><img src=\"https://colab.research.google.com/assets/colab-badge.svg\" alt=\"Open In Colab\"/></a>"
      ]
    },
    {
      "cell_type": "code",
      "execution_count": null,
      "metadata": {
        "id": "QJYCO38GrZ5D"
      },
      "outputs": [],
      "source": [
        "input = '''nop +0\n",
        "acc +1\n",
        "jmp +4\n",
        "acc +3\n",
        "jmp -3\n",
        "acc -99\n",
        "acc +1\n",
        "jmp -4\n",
        "acc +6'''.split('\\n')"
      ]
    },
    {
      "cell_type": "code",
      "source": [
        "input = [x.rstrip() for x in open(\"input.txt\").readlines()]"
      ],
      "metadata": {
        "id": "A4Azok6Fwkla"
      },
      "execution_count": null,
      "outputs": []
    },
    {
      "cell_type": "code",
      "source": [
        "from collections import Counter"
      ],
      "metadata": {
        "id": "pFZBykVCr5mp"
      },
      "execution_count": null,
      "outputs": []
    },
    {
      "cell_type": "code",
      "source": [
        "i = 0\n",
        "a = 0\n",
        "c = Counter()\n",
        "while True:\n",
        "  c[i] += 1\n",
        "  if c[i] > 1:\n",
        "    print(a)\n",
        "    break\n",
        "  op, arg = input[i].split()\n",
        "  if op == \"nop\":\n",
        "    i += 1\n",
        "  elif op == \"acc\":\n",
        "    i += 1\n",
        "    a += int(arg)\n",
        "  elif op == \"jmp\":\n",
        "    i += int(arg)"
      ],
      "metadata": {
        "colab": {
          "base_uri": "https://localhost:8080/"
        },
        "id": "ftCbmwVcreY1",
        "outputId": "6c5673f3-c776-43d4-a428-3b455a2815e4"
      },
      "execution_count": null,
      "outputs": [
        {
          "output_type": "stream",
          "name": "stdout",
          "text": [
            "1451\n"
          ]
        }
      ]
    },
    {
      "cell_type": "code",
      "source": [
        "def run(ifix):\n",
        "  i = 0\n",
        "  a = 0\n",
        "  c = Counter()\n",
        "  while i < len(input):\n",
        "    c[i] += 1\n",
        "    if c[i] > 1:\n",
        "      return None\n",
        "    op, arg = input[i].split()\n",
        "    if i == ifix:\n",
        "      i += 1\n",
        "    elif op == \"nop\":\n",
        "      i += 1\n",
        "    elif op == \"acc\":\n",
        "      i += 1\n",
        "      a += int(arg)\n",
        "    elif op == \"jmp\":\n",
        "      i += int(arg)\n",
        "  return a\n",
        "for i in range(len(input)):\n",
        "  if input[i].startswith(\"jmp\"):\n",
        "    a = run(i)\n",
        "    if a != None:\n",
        "      print(a)\n",
        "      break"
      ],
      "metadata": {
        "colab": {
          "base_uri": "https://localhost:8080/"
        },
        "id": "1bWEadywsftM",
        "outputId": "cd64c380-eab5-4304-8991-64de7f97bbea"
      },
      "execution_count": null,
      "outputs": [
        {
          "output_type": "stream",
          "name": "stdout",
          "text": [
            "1160\n"
          ]
        }
      ]
    },
    {
      "cell_type": "code",
      "source": [],
      "metadata": {
        "id": "wGEOeS6IyRZN"
      },
      "execution_count": null,
      "outputs": []
    }
  ]
}