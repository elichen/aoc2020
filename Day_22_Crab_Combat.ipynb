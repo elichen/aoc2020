{
  "nbformat": 4,
  "nbformat_minor": 0,
  "metadata": {
    "colab": {
      "provenance": [],
      "authorship_tag": "ABX9TyPBXkXv4ahcpj5UIfyHOx7f",
      "include_colab_link": true
    },
    "kernelspec": {
      "name": "python3",
      "display_name": "Python 3"
    },
    "language_info": {
      "name": "python"
    }
  },
  "cells": [
    {
      "cell_type": "markdown",
      "metadata": {
        "id": "view-in-github",
        "colab_type": "text"
      },
      "source": [
        "<a href=\"https://colab.research.google.com/github/elichen/aoc2020/blob/main/Day_22_Crab_Combat.ipynb\" target=\"_parent\"><img src=\"https://colab.research.google.com/assets/colab-badge.svg\" alt=\"Open In Colab\"/></a>"
      ]
    },
    {
      "cell_type": "code",
      "execution_count": null,
      "metadata": {
        "id": "dRHewgIzSyP3"
      },
      "outputs": [],
      "source": [
        "input = '''Player 1:\n",
        "9\n",
        "2\n",
        "6\n",
        "3\n",
        "1\n",
        "\n",
        "Player 2:\n",
        "5\n",
        "8\n",
        "4\n",
        "7\n",
        "10'''.split('\\n')"
      ]
    },
    {
      "cell_type": "code",
      "source": [
        "input = [x.rstrip() for x in open(\"input.txt\").readlines()]"
      ],
      "metadata": {
        "id": "Z9R_Cv-uWE18"
      },
      "execution_count": null,
      "outputs": []
    },
    {
      "cell_type": "code",
      "source": [
        "i = 1\n",
        "d1 = []\n",
        "while input[i] != \"\":\n",
        "  d1.append(int(input[i]))\n",
        "  i += 1\n",
        "i += 2\n",
        "d2 = []\n",
        "while i < len(input) and input[i] != \"\":\n",
        "  d2.append(int(input[i]))\n",
        "  i += 1"
      ],
      "metadata": {
        "id": "GoPi4V3VS4le"
      },
      "execution_count": null,
      "outputs": []
    },
    {
      "cell_type": "code",
      "source": [
        "while len(d1) >0 and len(d2) >0:\n",
        "  p1 = d1.pop(0)\n",
        "  p2 = d2.pop(0)\n",
        "  if p1 > p2:\n",
        "    d1.extend([p1,p2])\n",
        "  else:\n",
        "    d2.extend([p2,p1])\n",
        "w = d1 if len(d1)>0 else d2\n",
        "count = 0\n",
        "for idx,e in enumerate(w):\n",
        "  count += (len(w)-idx)*e\n",
        "count"
      ],
      "metadata": {
        "colab": {
          "base_uri": "https://localhost:8080/"
        },
        "id": "CfKSOMsjTQ-3",
        "outputId": "0b23c39a-ae1a-49a1-98d1-1f7ad52c5f78"
      },
      "execution_count": null,
      "outputs": [
        {
          "output_type": "execute_result",
          "data": {
            "text/plain": [
              "34005"
            ]
          },
          "metadata": {},
          "execution_count": 20
        }
      ]
    },
    {
      "cell_type": "code",
      "source": [
        "i = 1\n",
        "d1 = []\n",
        "while input[i] != \"\":\n",
        "  d1.append(int(input[i]))\n",
        "  i += 1\n",
        "i += 2\n",
        "d2 = []\n",
        "while i < len(input) and input[i] != \"\":\n",
        "  d2.append(int(input[i]))\n",
        "  i += 1\n",
        "t1 = tuple(d1)\n",
        "t2 = tuple(d2)\n",
        "\n",
        "from functools import lru_cache\n",
        "@lru_cache(maxsize=None)\n",
        "def play(t1, t2):\n",
        "  # print(t1,t2)\n",
        "  played = set()\n",
        "  while len(t1) >0 and len(t2) >0:\n",
        "    key = (t1,t2)\n",
        "    if key in played:\n",
        "      return 1,(),()\n",
        "    played.add(key)\n",
        "    d1 = list(t1)\n",
        "    d2 = list(t2)\n",
        "    p1 = d1.pop(0)\n",
        "    p2 = d2.pop(0)\n",
        "    if len(d1) >= p1 and len(d2) >= p2:\n",
        "      w,_,_ = play(tuple(d1[:p1]), tuple(d2[:p2]))\n",
        "    else:\n",
        "      w = 1 if p1 > p2 else 2\n",
        "    if w == 1:\n",
        "      d1.extend([p1,p2])\n",
        "    else:\n",
        "      d2.extend([p2,p1])\n",
        "    t1 = tuple(d1)\n",
        "    t2 = tuple(d2)\n",
        "  w = 1 if len(t1)>0 else 2\n",
        "  return w, t1, t2\n",
        "w,t1,t2 = play(t1, t2)\n",
        "d = t1 if w == 1 else t2\n",
        "count = 0\n",
        "for idx,e in enumerate(d):\n",
        "  count += (len(d)-idx)*e\n",
        "count"
      ],
      "metadata": {
        "colab": {
          "base_uri": "https://localhost:8080/"
        },
        "id": "pMYpA52oXq7n",
        "outputId": "98fe6b22-7b01-424b-d8a2-4519683070b4"
      },
      "execution_count": null,
      "outputs": [
        {
          "output_type": "execute_result",
          "data": {
            "text/plain": [
              "32731"
            ]
          },
          "metadata": {},
          "execution_count": 21
        }
      ]
    }
  ]
}