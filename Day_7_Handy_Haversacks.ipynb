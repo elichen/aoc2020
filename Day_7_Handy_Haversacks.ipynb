{
  "nbformat": 4,
  "nbformat_minor": 0,
  "metadata": {
    "colab": {
      "provenance": [],
      "authorship_tag": "ABX9TyOZCHV72bcbHvUJGH3Zg3UY",
      "include_colab_link": true
    },
    "kernelspec": {
      "name": "python3",
      "display_name": "Python 3"
    },
    "language_info": {
      "name": "python"
    }
  },
  "cells": [
    {
      "cell_type": "markdown",
      "metadata": {
        "id": "view-in-github",
        "colab_type": "text"
      },
      "source": [
        "<a href=\"https://colab.research.google.com/github/elichen/aoc2020/blob/main/Day_7_Handy_Haversacks.ipynb\" target=\"_parent\"><img src=\"https://colab.research.google.com/assets/colab-badge.svg\" alt=\"Open In Colab\"/></a>"
      ]
    },
    {
      "cell_type": "code",
      "source": [
        "input = '''light red bags contain 1 bright white bag, 2 muted yellow bags.\n",
        "dark orange bags contain 3 bright white bags, 4 muted yellow bags.\n",
        "bright white bags contain 1 shiny gold bag.\n",
        "muted yellow bags contain 2 shiny gold bags, 9 faded blue bags.\n",
        "shiny gold bags contain 1 dark olive bag, 2 vibrant plum bags.\n",
        "dark olive bags contain 3 faded blue bags, 4 dotted black bags.\n",
        "vibrant plum bags contain 5 faded blue bags, 6 dotted black bags.\n",
        "faded blue bags contain no other bags.\n",
        "dotted black bags contain no other bags.'''.split('\\n')"
      ],
      "metadata": {
        "id": "8g05_DWZTmJQ"
      },
      "execution_count": null,
      "outputs": []
    },
    {
      "cell_type": "code",
      "source": [
        "input = [x.rstrip() for x in open(\"input.txt\").readlines()]"
      ],
      "metadata": {
        "id": "5PT_BgyfbdMS"
      },
      "execution_count": null,
      "outputs": []
    },
    {
      "cell_type": "code",
      "execution_count": null,
      "metadata": {
        "id": "KVanzlIJSpB-"
      },
      "outputs": [],
      "source": [
        "dependency_graph = {}\n",
        "\n",
        "for line in input:\n",
        "    parts = line.split(' bags contain ')\n",
        "    bag_color = parts[0]\n",
        "    contained_bags_str = parts[1][:-1] # remove the last period\n",
        "\n",
        "    if contained_bags_str == 'no other bags':\n",
        "        dependency_graph[bag_color] = []\n",
        "        continue\n",
        "\n",
        "    contained_bags = []\n",
        "    for bag_str in contained_bags_str.split(', '):\n",
        "        count, *color_words, _ = bag_str.split()\n",
        "        color = ' '.join(color_words)\n",
        "        contained_bags.append((int(count), color))\n",
        "\n",
        "    dependency_graph[bag_color] = contained_bags"
      ]
    },
    {
      "cell_type": "code",
      "source": [
        "def dfs(bag, find):\n",
        "  total = 0\n",
        "  for count, inner_bag in dependency_graph[bag]:\n",
        "    if find == inner_bag:\n",
        "      total += count\n",
        "    total += count * dfs(inner_bag, find)\n",
        "  return total"
      ],
      "metadata": {
        "id": "07zVM8inXuil"
      },
      "execution_count": null,
      "outputs": []
    },
    {
      "cell_type": "code",
      "source": [
        "shiny_gold = 0\n",
        "for bag in dependency_graph.keys():\n",
        "  if dfs(bag, \"shiny gold\") > 0:\n",
        "    shiny_gold += 1\n",
        "shiny_gold"
      ],
      "metadata": {
        "colab": {
          "base_uri": "https://localhost:8080/"
        },
        "id": "JUg2Ut1bao17",
        "outputId": "251f2d3e-403e-4d58-e0bc-6fe51d49925b"
      },
      "execution_count": null,
      "outputs": [
        {
          "output_type": "execute_result",
          "data": {
            "text/plain": [
              "126"
            ]
          },
          "metadata": {},
          "execution_count": 40
        }
      ]
    },
    {
      "cell_type": "code",
      "source": [
        "def dfs_count(bag):\n",
        "  total = 0\n",
        "  for count, inner_bag in dependency_graph[bag]:\n",
        "    total += count\n",
        "    total += count * dfs_count(inner_bag)\n",
        "  return total\n",
        "dfs_count('shiny gold')"
      ],
      "metadata": {
        "colab": {
          "base_uri": "https://localhost:8080/"
        },
        "id": "fB_2N1Egbjvv",
        "outputId": "259f147c-76c5-4fe4-9469-e8e114cc2a34"
      },
      "execution_count": null,
      "outputs": [
        {
          "output_type": "execute_result",
          "data": {
            "text/plain": [
              "220149"
            ]
          },
          "metadata": {},
          "execution_count": 41
        }
      ]
    },
    {
      "cell_type": "code",
      "source": [],
      "metadata": {
        "id": "zs33V9bNcvyX"
      },
      "execution_count": null,
      "outputs": []
    }
  ]
}