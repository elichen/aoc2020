{
  "nbformat": 4,
  "nbformat_minor": 0,
  "metadata": {
    "colab": {
      "provenance": [],
      "authorship_tag": "ABX9TyOhKsG6VuPYnNayVFBEJFzO",
      "include_colab_link": true
    },
    "kernelspec": {
      "name": "python3",
      "display_name": "Python 3"
    },
    "language_info": {
      "name": "python"
    }
  },
  "cells": [
    {
      "cell_type": "markdown",
      "metadata": {
        "id": "view-in-github",
        "colab_type": "text"
      },
      "source": [
        "<a href=\"https://colab.research.google.com/github/elichen/aoc2020/blob/main/Day_18_Operation_Order.ipynb\" target=\"_parent\"><img src=\"https://colab.research.google.com/assets/colab-badge.svg\" alt=\"Open In Colab\"/></a>"
      ]
    },
    {
      "cell_type": "code",
      "execution_count": null,
      "metadata": {
        "id": "FhGzHtDv3b9M"
      },
      "outputs": [],
      "source": [
        "input = '''1 + 2 * 3 + 4 * 5 + 6\n",
        "2 * 3 + (4 * 5)\n",
        "5 + (8 * 3 + 9 + 3 * 4 * 3)\n",
        "5 * 9 * (7 * 3 * 3 + 9 * 3 + (8 + 6 * 4))\n",
        "((2 + 4 * 9) * (6 + 9 * 8 + 6) + 6) + 2 + 4 * 2'''.split('\\n')"
      ]
    },
    {
      "cell_type": "code",
      "source": [
        "input = [x.rstrip() for x in open(\"input.txt\").readlines()]"
      ],
      "metadata": {
        "id": "oUPjMfgyGUV5"
      },
      "execution_count": null,
      "outputs": []
    },
    {
      "cell_type": "code",
      "source": [
        "def eval(s,i):\n",
        "  ret = 0\n",
        "  op = '+'\n",
        "  while i < len(s):\n",
        "    c = s[i]\n",
        "    i += 1\n",
        "    if c.isdigit():\n",
        "      if op == \"+\":\n",
        "        ret += int(c)\n",
        "      elif op == \"*\":\n",
        "        ret *= int(c)\n",
        "    elif c == \" \":\n",
        "      continue\n",
        "    elif c == \"(\":\n",
        "      v,i = eval(s,i)\n",
        "      if op == \"+\":\n",
        "        ret += v\n",
        "      elif op == \"*\":\n",
        "        ret *= v\n",
        "    elif c == \")\":\n",
        "      break\n",
        "    else:\n",
        "      op = c\n",
        "  return ret,i\n",
        "s = \"(2 * (1 + 2 * 3)) * 3\"\n",
        "eval(s,0)"
      ],
      "metadata": {
        "colab": {
          "base_uri": "https://localhost:8080/"
        },
        "id": "Bjy-lQcf3z2B",
        "outputId": "a34201ff-7537-47cd-ceba-975eb4426f27"
      },
      "execution_count": null,
      "outputs": [
        {
          "output_type": "execute_result",
          "data": {
            "text/plain": [
              "(54, 21)"
            ]
          },
          "metadata": {},
          "execution_count": 17
        }
      ]
    },
    {
      "cell_type": "code",
      "source": [
        "total = 0\n",
        "for line in input:\n",
        "  x = eval(line,0)[0]\n",
        "  total += x\n",
        "total"
      ],
      "metadata": {
        "colab": {
          "base_uri": "https://localhost:8080/"
        },
        "id": "aMESsHGu3jxj",
        "outputId": "971f968b-6e68-4add-ee73-fbd1203026c9"
      },
      "execution_count": null,
      "outputs": [
        {
          "output_type": "execute_result",
          "data": {
            "text/plain": [
              "6923486965641"
            ]
          },
          "metadata": {},
          "execution_count": 18
        }
      ]
    },
    {
      "cell_type": "code",
      "source": [
        "from functools import reduce\n",
        "from operator import mul\n",
        "\n",
        "def eval2(s,i):\n",
        "  ps = []\n",
        "  op = '*'\n",
        "  while i < len(s):\n",
        "    c = s[i]\n",
        "    i += 1\n",
        "    if c.isdigit():\n",
        "      if op == \"+\":\n",
        "        ps[-1] = ps[-1] + int(c)\n",
        "      elif op == \"*\":\n",
        "        ps.append(int(c))\n",
        "    elif c == \" \":\n",
        "      continue\n",
        "    elif c == \"(\":\n",
        "      ret,i = eval2(s,i)\n",
        "      if op == \"+\":\n",
        "        ps[-1] = ps[-1] + ret\n",
        "      elif op == \"*\":\n",
        "        ps.append(ret)\n",
        "    elif c == \")\":\n",
        "      break\n",
        "    else:\n",
        "      op = c\n",
        "  return reduce(mul, ps),i\n",
        "s = \"5 * 9 * (7 * 3 * 3 + 9 * 3 + (8 + 6 * 4))\"\n",
        "eval2(s,0)"
      ],
      "metadata": {
        "colab": {
          "base_uri": "https://localhost:8080/"
        },
        "id": "YH849lWEN4gA",
        "outputId": "b4f2be74-fc69-4907-d2c0-8315105a7499"
      },
      "execution_count": null,
      "outputs": [
        {
          "output_type": "execute_result",
          "data": {
            "text/plain": [
              "(669060, 41)"
            ]
          },
          "metadata": {},
          "execution_count": 19
        }
      ]
    },
    {
      "cell_type": "code",
      "source": [
        "total = 0\n",
        "for line in input:\n",
        "  x = eval2(line,0)[0]\n",
        "  total += x\n",
        "total"
      ],
      "metadata": {
        "colab": {
          "base_uri": "https://localhost:8080/"
        },
        "id": "esPTOopjHoee",
        "outputId": "7e7aca8c-2f87-484c-caa9-7f74be6a6657"
      },
      "execution_count": null,
      "outputs": [
        {
          "output_type": "execute_result",
          "data": {
            "text/plain": [
              "70722650566361"
            ]
          },
          "metadata": {},
          "execution_count": 20
        }
      ]
    }
  ]
}