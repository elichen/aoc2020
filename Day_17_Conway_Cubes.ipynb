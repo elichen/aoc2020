{
  "nbformat": 4,
  "nbformat_minor": 0,
  "metadata": {
    "colab": {
      "provenance": [],
      "authorship_tag": "ABX9TyMTe666zQyPbfBAuO0o0SKN",
      "include_colab_link": true
    },
    "kernelspec": {
      "name": "python3",
      "display_name": "Python 3"
    },
    "language_info": {
      "name": "python"
    }
  },
  "cells": [
    {
      "cell_type": "markdown",
      "metadata": {
        "id": "view-in-github",
        "colab_type": "text"
      },
      "source": [
        "<a href=\"https://colab.research.google.com/github/elichen/aoc2020/blob/main/Day_17_Conway_Cubes.ipynb\" target=\"_parent\"><img src=\"https://colab.research.google.com/assets/colab-badge.svg\" alt=\"Open In Colab\"/></a>"
      ]
    },
    {
      "cell_type": "code",
      "execution_count": null,
      "metadata": {
        "id": "fm3XxxZyGVEx"
      },
      "outputs": [],
      "source": [
        "input = '''.#.\n",
        "..#\n",
        "###'''.split('\\n')"
      ]
    },
    {
      "cell_type": "code",
      "source": [
        "input = '''.###.###\n",
        ".#.#...#\n",
        "..##.#..\n",
        "..##..##\n",
        "........\n",
        "##.#.#.#\n",
        "..###...\n",
        ".####...'''.split('\\n')"
      ],
      "metadata": {
        "id": "G8-HWf0CSZoI"
      },
      "execution_count": null,
      "outputs": []
    },
    {
      "cell_type": "code",
      "source": [
        "import numpy as np\n",
        "\n",
        "def count_non_zero_neighbors(array, z, y, x):\n",
        "    non_zero_neighbors = 0\n",
        "    shape = array.shape\n",
        "\n",
        "    for i in range(-1, 2):\n",
        "        for j in range(-1, 2):\n",
        "            for k in range(-1, 2):\n",
        "                x_idx, y_idx, z_idx = x + i, y + j, z + k\n",
        "\n",
        "                # Skip the given (x, y, z) coordinate itself\n",
        "                if i == 0 and j == 0 and k == 0:\n",
        "                    continue\n",
        "\n",
        "                # Check if indices are within bounds\n",
        "                if 0 <= z_idx < shape[0] and 0 <= y_idx < shape[1] and 0 <= x_idx < shape[2]:\n",
        "                    if array[z_idx, y_idx, x_idx] != 0:\n",
        "                        non_zero_neighbors += 1\n",
        "\n",
        "    return non_zero_neighbors"
      ],
      "metadata": {
        "id": "hn_sGCELIOfL"
      },
      "execution_count": null,
      "outputs": []
    },
    {
      "cell_type": "code",
      "source": [
        "d = 1\n",
        "w = len(input[0])\n",
        "h = len(input)\n",
        "m = np.zeros((d,h,w))\n",
        "\n",
        "for row, line in enumerate(input):\n",
        "  for col, c in enumerate(line):\n",
        "    if c == '#': m[0,row,col] = 1\n",
        "\n",
        "for _ in range(6):\n",
        "  padded_m = np.pad(m, pad_width=((1, 1), (1, 1), (1, 1)), mode='constant', constant_values=0)\n",
        "  new_m = np.zeros(padded_m.shape, dtype=int)\n",
        "  for z in range(new_m.shape[0]):\n",
        "    for y in range(new_m.shape[1]):\n",
        "      for x in range(new_m.shape[2]):\n",
        "        if padded_m[z,y,x] == 1:\n",
        "          n = count_non_zero_neighbors(padded_m, z,y,x)\n",
        "          if n == 2 or n == 3:\n",
        "            new_m[z,y,x] = 1\n",
        "        if padded_m[z,y,x] == 0 and count_non_zero_neighbors(padded_m, z,y,x) == 3:\n",
        "          new_m[z,y,x] = 1\n",
        "  m = new_m\n",
        "(m == 1).sum()"
      ],
      "metadata": {
        "colab": {
          "base_uri": "https://localhost:8080/"
        },
        "id": "M827sfVVIy6h",
        "outputId": "a7777498-0fee-4ab9-9d83-c10df4dc075a"
      },
      "execution_count": null,
      "outputs": [
        {
          "output_type": "execute_result",
          "data": {
            "text/plain": [
              "384"
            ]
          },
          "metadata": {},
          "execution_count": 51
        }
      ]
    },
    {
      "cell_type": "code",
      "source": [
        "import numpy as np\n",
        "\n",
        "def count_non_zero_neighbors_4d(array, w, z, y, x):\n",
        "    non_zero_neighbors = 0\n",
        "    shape = array.shape\n",
        "\n",
        "    for i in range(-1, 2):\n",
        "        for j in range(-1, 2):\n",
        "            for k in range(-1, 2):\n",
        "              for l in range(-1, 2):\n",
        "                x_idx, y_idx, z_idx, w_idx = x + i, y + j, z + k, w + l\n",
        "\n",
        "                # Skip the given (x, y, z) coordinate itself\n",
        "                if i == 0 and j == 0 and k == 0 and l == 0:\n",
        "                    continue\n",
        "\n",
        "                # Check if indices are within bounds\n",
        "                if 0 <= w_idx < shape[0] and 0 <= z_idx < shape[1] and 0 <= y_idx < shape[2] and 0 <= x_idx < shape[3]:\n",
        "                    if array[w_idx, z_idx, y_idx, x_idx] != 0:\n",
        "                        non_zero_neighbors += 1\n",
        "\n",
        "    return non_zero_neighbors"
      ],
      "metadata": {
        "id": "S0D74riWS9zW"
      },
      "execution_count": null,
      "outputs": []
    },
    {
      "cell_type": "code",
      "source": [
        "d = 1\n",
        "w = len(input[0])\n",
        "h = len(input)\n",
        "m = np.zeros((d,d,h,w))\n",
        "\n",
        "for row, line in enumerate(input):\n",
        "  for col, c in enumerate(line):\n",
        "    if c == '#': m[0,0,row,col] = 1\n",
        "\n",
        "for _ in range(6):\n",
        "  padded_m = np.pad(m, pad_width=((1, 1), (1, 1), (1, 1), (1, 1)), mode='constant', constant_values=0)\n",
        "  new_m = np.zeros(padded_m.shape, dtype=int)\n",
        "  for w in range(new_m.shape[0]):\n",
        "    for z in range(new_m.shape[1]):\n",
        "      for y in range(new_m.shape[2]):\n",
        "        for x in range(new_m.shape[3]):\n",
        "          if padded_m[w,z,y,x] == 1:\n",
        "            n = count_non_zero_neighbors_4d(padded_m, w,z,y,x)\n",
        "            if n == 2 or n == 3:\n",
        "              new_m[w,z,y,x] = 1\n",
        "          if padded_m[w,z,y,x] == 0 and count_non_zero_neighbors_4d(padded_m, w,z,y,x) == 3:\n",
        "            new_m[w,z,y,x] = 1\n",
        "  m = new_m\n",
        "(m == 1).sum()\n",
        "# m"
      ],
      "metadata": {
        "colab": {
          "base_uri": "https://localhost:8080/"
        },
        "id": "PwWIH6hUTNOC",
        "outputId": "e0409fe6-81a8-4108-cf5c-0b84b81912eb"
      },
      "execution_count": null,
      "outputs": [
        {
          "output_type": "execute_result",
          "data": {
            "text/plain": [
              "2012"
            ]
          },
          "metadata": {},
          "execution_count": 53
        }
      ]
    }
  ]
}